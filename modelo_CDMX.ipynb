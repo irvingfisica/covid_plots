{
 "cells": [
  {
   "cell_type": "code",
   "execution_count": 16,
   "metadata": {},
   "outputs": [],
   "source": [
    "import requests, zipfile, io\n",
    "import pandas as pd\n",
    "import numpy as np\n",
    "import bokeh.plotting as bpl\n",
    "import bokeh.palettes as bpt\n",
    "import colorcet as cc\n",
    "from scipy.integrate import odeint\n",
    "from scipy.integrate import solve_ivp\n",
    "from scipy.optimize import minimize\n",
    "from sklearn.metrics import mean_squared_log_error, mean_squared_error"
   ]
  },
  {
   "cell_type": "code",
   "execution_count": 2,
   "metadata": {},
   "outputs": [
    {
     "data": {
      "text/html": [
       "\n",
       "    <div class=\"bk-root\">\n",
       "        <a href=\"https://bokeh.org\" target=\"_blank\" class=\"bk-logo bk-logo-small bk-logo-notebook\"></a>\n",
       "        <span id=\"1001\">Loading BokehJS ...</span>\n",
       "    </div>"
      ]
     },
     "metadata": {},
     "output_type": "display_data"
    },
    {
     "data": {
      "application/javascript": [
       "\n",
       "(function(root) {\n",
       "  function now() {\n",
       "    return new Date();\n",
       "  }\n",
       "\n",
       "  var force = true;\n",
       "\n",
       "  if (typeof root._bokeh_onload_callbacks === \"undefined\" || force === true) {\n",
       "    root._bokeh_onload_callbacks = [];\n",
       "    root._bokeh_is_loading = undefined;\n",
       "  }\n",
       "\n",
       "  var JS_MIME_TYPE = 'application/javascript';\n",
       "  var HTML_MIME_TYPE = 'text/html';\n",
       "  var EXEC_MIME_TYPE = 'application/vnd.bokehjs_exec.v0+json';\n",
       "  var CLASS_NAME = 'output_bokeh rendered_html';\n",
       "\n",
       "  /**\n",
       "   * Render data to the DOM node\n",
       "   */\n",
       "  function render(props, node) {\n",
       "    var script = document.createElement(\"script\");\n",
       "    node.appendChild(script);\n",
       "  }\n",
       "\n",
       "  /**\n",
       "   * Handle when an output is cleared or removed\n",
       "   */\n",
       "  function handleClearOutput(event, handle) {\n",
       "    var cell = handle.cell;\n",
       "\n",
       "    var id = cell.output_area._bokeh_element_id;\n",
       "    var server_id = cell.output_area._bokeh_server_id;\n",
       "    // Clean up Bokeh references\n",
       "    if (id != null && id in Bokeh.index) {\n",
       "      Bokeh.index[id].model.document.clear();\n",
       "      delete Bokeh.index[id];\n",
       "    }\n",
       "\n",
       "    if (server_id !== undefined) {\n",
       "      // Clean up Bokeh references\n",
       "      var cmd = \"from bokeh.io.state import curstate; print(curstate().uuid_to_server['\" + server_id + \"'].get_sessions()[0].document.roots[0]._id)\";\n",
       "      cell.notebook.kernel.execute(cmd, {\n",
       "        iopub: {\n",
       "          output: function(msg) {\n",
       "            var id = msg.content.text.trim();\n",
       "            if (id in Bokeh.index) {\n",
       "              Bokeh.index[id].model.document.clear();\n",
       "              delete Bokeh.index[id];\n",
       "            }\n",
       "          }\n",
       "        }\n",
       "      });\n",
       "      // Destroy server and session\n",
       "      var cmd = \"import bokeh.io.notebook as ion; ion.destroy_server('\" + server_id + \"')\";\n",
       "      cell.notebook.kernel.execute(cmd);\n",
       "    }\n",
       "  }\n",
       "\n",
       "  /**\n",
       "   * Handle when a new output is added\n",
       "   */\n",
       "  function handleAddOutput(event, handle) {\n",
       "    var output_area = handle.output_area;\n",
       "    var output = handle.output;\n",
       "\n",
       "    // limit handleAddOutput to display_data with EXEC_MIME_TYPE content only\n",
       "    if ((output.output_type != \"display_data\") || (!output.data.hasOwnProperty(EXEC_MIME_TYPE))) {\n",
       "      return\n",
       "    }\n",
       "\n",
       "    var toinsert = output_area.element.find(\".\" + CLASS_NAME.split(' ')[0]);\n",
       "\n",
       "    if (output.metadata[EXEC_MIME_TYPE][\"id\"] !== undefined) {\n",
       "      toinsert[toinsert.length - 1].firstChild.textContent = output.data[JS_MIME_TYPE];\n",
       "      // store reference to embed id on output_area\n",
       "      output_area._bokeh_element_id = output.metadata[EXEC_MIME_TYPE][\"id\"];\n",
       "    }\n",
       "    if (output.metadata[EXEC_MIME_TYPE][\"server_id\"] !== undefined) {\n",
       "      var bk_div = document.createElement(\"div\");\n",
       "      bk_div.innerHTML = output.data[HTML_MIME_TYPE];\n",
       "      var script_attrs = bk_div.children[0].attributes;\n",
       "      for (var i = 0; i < script_attrs.length; i++) {\n",
       "        toinsert[toinsert.length - 1].firstChild.setAttribute(script_attrs[i].name, script_attrs[i].value);\n",
       "        toinsert[toinsert.length - 1].firstChild.textContent = bk_div.children[0].textContent\n",
       "      }\n",
       "      // store reference to server id on output_area\n",
       "      output_area._bokeh_server_id = output.metadata[EXEC_MIME_TYPE][\"server_id\"];\n",
       "    }\n",
       "  }\n",
       "\n",
       "  function register_renderer(events, OutputArea) {\n",
       "\n",
       "    function append_mime(data, metadata, element) {\n",
       "      // create a DOM node to render to\n",
       "      var toinsert = this.create_output_subarea(\n",
       "        metadata,\n",
       "        CLASS_NAME,\n",
       "        EXEC_MIME_TYPE\n",
       "      );\n",
       "      this.keyboard_manager.register_events(toinsert);\n",
       "      // Render to node\n",
       "      var props = {data: data, metadata: metadata[EXEC_MIME_TYPE]};\n",
       "      render(props, toinsert[toinsert.length - 1]);\n",
       "      element.append(toinsert);\n",
       "      return toinsert\n",
       "    }\n",
       "\n",
       "    /* Handle when an output is cleared or removed */\n",
       "    events.on('clear_output.CodeCell', handleClearOutput);\n",
       "    events.on('delete.Cell', handleClearOutput);\n",
       "\n",
       "    /* Handle when a new output is added */\n",
       "    events.on('output_added.OutputArea', handleAddOutput);\n",
       "\n",
       "    /**\n",
       "     * Register the mime type and append_mime function with output_area\n",
       "     */\n",
       "    OutputArea.prototype.register_mime_type(EXEC_MIME_TYPE, append_mime, {\n",
       "      /* Is output safe? */\n",
       "      safe: true,\n",
       "      /* Index of renderer in `output_area.display_order` */\n",
       "      index: 0\n",
       "    });\n",
       "  }\n",
       "\n",
       "  // register the mime type if in Jupyter Notebook environment and previously unregistered\n",
       "  if (root.Jupyter !== undefined) {\n",
       "    var events = require('base/js/events');\n",
       "    var OutputArea = require('notebook/js/outputarea').OutputArea;\n",
       "\n",
       "    if (OutputArea.prototype.mime_types().indexOf(EXEC_MIME_TYPE) == -1) {\n",
       "      register_renderer(events, OutputArea);\n",
       "    }\n",
       "  }\n",
       "\n",
       "  \n",
       "  if (typeof (root._bokeh_timeout) === \"undefined\" || force === true) {\n",
       "    root._bokeh_timeout = Date.now() + 5000;\n",
       "    root._bokeh_failed_load = false;\n",
       "  }\n",
       "\n",
       "  var NB_LOAD_WARNING = {'data': {'text/html':\n",
       "     \"<div style='background-color: #fdd'>\\n\"+\n",
       "     \"<p>\\n\"+\n",
       "     \"BokehJS does not appear to have successfully loaded. If loading BokehJS from CDN, this \\n\"+\n",
       "     \"may be due to a slow or bad network connection. Possible fixes:\\n\"+\n",
       "     \"</p>\\n\"+\n",
       "     \"<ul>\\n\"+\n",
       "     \"<li>re-rerun `output_notebook()` to attempt to load from CDN again, or</li>\\n\"+\n",
       "     \"<li>use INLINE resources instead, as so:</li>\\n\"+\n",
       "     \"</ul>\\n\"+\n",
       "     \"<code>\\n\"+\n",
       "     \"from bokeh.resources import INLINE\\n\"+\n",
       "     \"output_notebook(resources=INLINE)\\n\"+\n",
       "     \"</code>\\n\"+\n",
       "     \"</div>\"}};\n",
       "\n",
       "  function display_loaded() {\n",
       "    var el = document.getElementById(\"1001\");\n",
       "    if (el != null) {\n",
       "      el.textContent = \"BokehJS is loading...\";\n",
       "    }\n",
       "    if (root.Bokeh !== undefined) {\n",
       "      if (el != null) {\n",
       "        el.textContent = \"BokehJS \" + root.Bokeh.version + \" successfully loaded.\";\n",
       "      }\n",
       "    } else if (Date.now() < root._bokeh_timeout) {\n",
       "      setTimeout(display_loaded, 100)\n",
       "    }\n",
       "  }\n",
       "\n",
       "\n",
       "  function run_callbacks() {\n",
       "    try {\n",
       "      root._bokeh_onload_callbacks.forEach(function(callback) {\n",
       "        if (callback != null)\n",
       "          callback();\n",
       "      });\n",
       "    } finally {\n",
       "      delete root._bokeh_onload_callbacks\n",
       "    }\n",
       "    console.debug(\"Bokeh: all callbacks have finished\");\n",
       "  }\n",
       "\n",
       "  function load_libs(css_urls, js_urls, callback) {\n",
       "    if (css_urls == null) css_urls = [];\n",
       "    if (js_urls == null) js_urls = [];\n",
       "\n",
       "    root._bokeh_onload_callbacks.push(callback);\n",
       "    if (root._bokeh_is_loading > 0) {\n",
       "      console.debug(\"Bokeh: BokehJS is being loaded, scheduling callback at\", now());\n",
       "      return null;\n",
       "    }\n",
       "    if (js_urls == null || js_urls.length === 0) {\n",
       "      run_callbacks();\n",
       "      return null;\n",
       "    }\n",
       "    console.debug(\"Bokeh: BokehJS not loaded, scheduling load and callback at\", now());\n",
       "    root._bokeh_is_loading = css_urls.length + js_urls.length;\n",
       "\n",
       "    function on_load() {\n",
       "      root._bokeh_is_loading--;\n",
       "      if (root._bokeh_is_loading === 0) {\n",
       "        console.debug(\"Bokeh: all BokehJS libraries/stylesheets loaded\");\n",
       "        run_callbacks()\n",
       "      }\n",
       "    }\n",
       "\n",
       "    function on_error() {\n",
       "      console.error(\"failed to load \" + url);\n",
       "    }\n",
       "\n",
       "    for (var i = 0; i < css_urls.length; i++) {\n",
       "      var url = css_urls[i];\n",
       "      const element = document.createElement(\"link\");\n",
       "      element.onload = on_load;\n",
       "      element.onerror = on_error;\n",
       "      element.rel = \"stylesheet\";\n",
       "      element.type = \"text/css\";\n",
       "      element.href = url;\n",
       "      console.debug(\"Bokeh: injecting link tag for BokehJS stylesheet: \", url);\n",
       "      document.body.appendChild(element);\n",
       "    }\n",
       "\n",
       "    const hashes = {\"https://cdn.bokeh.org/bokeh/release/bokeh-2.0.1.min.js\": \"JpP8FXbgAZLkfur7LiK3j9AGBhHNIvF742meBJrjO2ShJDhCG2I1uVvW+0DUtrmc\", \"https://cdn.bokeh.org/bokeh/release/bokeh-widgets-2.0.1.min.js\": \"xZlADit0Q04ISQEdKg2k3L4W9AwQBAuDs9nJL9fM/WwzL1tEU9VPNezOFX0nLEAz\", \"https://cdn.bokeh.org/bokeh/release/bokeh-tables-2.0.1.min.js\": \"4BuPRZkdMKSnj3zoxiNrQ86XgNw0rYmBOxe7nshquXwwcauupgBF2DHLVG1WuZlV\", \"https://cdn.bokeh.org/bokeh/release/bokeh-gl-2.0.1.min.js\": \"Dv1SQ87hmDqK6S5OhBf0bCuwAEvL5QYL0PuR/F1SPVhCS/r/abjkbpKDYL2zeM19\"};\n",
       "\n",
       "    for (var i = 0; i < js_urls.length; i++) {\n",
       "      var url = js_urls[i];\n",
       "      var element = document.createElement('script');\n",
       "      element.onload = on_load;\n",
       "      element.onerror = on_error;\n",
       "      element.async = false;\n",
       "      element.src = url;\n",
       "      if (url in hashes) {\n",
       "        element.crossOrigin = \"anonymous\";\n",
       "        element.integrity = \"sha384-\" + hashes[url];\n",
       "      }\n",
       "      console.debug(\"Bokeh: injecting script tag for BokehJS library: \", url);\n",
       "      document.head.appendChild(element);\n",
       "    }\n",
       "  };var element = document.getElementById(\"1001\");\n",
       "  if (element == null) {\n",
       "    console.error(\"Bokeh: ERROR: autoload.js configured with elementid '1001' but no matching script tag was found. \")\n",
       "    return false;\n",
       "  }\n",
       "\n",
       "  function inject_raw_css(css) {\n",
       "    const element = document.createElement(\"style\");\n",
       "    element.appendChild(document.createTextNode(css));\n",
       "    document.body.appendChild(element);\n",
       "  }\n",
       "\n",
       "  \n",
       "  var js_urls = [\"https://cdn.bokeh.org/bokeh/release/bokeh-2.0.1.min.js\", \"https://cdn.bokeh.org/bokeh/release/bokeh-widgets-2.0.1.min.js\", \"https://cdn.bokeh.org/bokeh/release/bokeh-tables-2.0.1.min.js\", \"https://cdn.bokeh.org/bokeh/release/bokeh-gl-2.0.1.min.js\"];\n",
       "  var css_urls = [];\n",
       "  \n",
       "\n",
       "  var inline_js = [\n",
       "    function(Bokeh) {\n",
       "      Bokeh.set_log_level(\"info\");\n",
       "    },\n",
       "    function(Bokeh) {\n",
       "    \n",
       "    \n",
       "    }\n",
       "  ];\n",
       "\n",
       "  function run_inline_js() {\n",
       "    \n",
       "    if (root.Bokeh !== undefined || force === true) {\n",
       "      \n",
       "    for (var i = 0; i < inline_js.length; i++) {\n",
       "      inline_js[i].call(root, root.Bokeh);\n",
       "    }\n",
       "    if (force === true) {\n",
       "        display_loaded();\n",
       "      }} else if (Date.now() < root._bokeh_timeout) {\n",
       "      setTimeout(run_inline_js, 100);\n",
       "    } else if (!root._bokeh_failed_load) {\n",
       "      console.log(\"Bokeh: BokehJS failed to load within specified timeout.\");\n",
       "      root._bokeh_failed_load = true;\n",
       "    } else if (force !== true) {\n",
       "      var cell = $(document.getElementById(\"1001\")).parents('.cell').data().cell;\n",
       "      cell.output_area.append_execute_result(NB_LOAD_WARNING)\n",
       "    }\n",
       "\n",
       "  }\n",
       "\n",
       "  if (root._bokeh_is_loading === 0) {\n",
       "    console.debug(\"Bokeh: BokehJS loaded, going straight to plotting\");\n",
       "    run_inline_js();\n",
       "  } else {\n",
       "    load_libs(css_urls, js_urls, function() {\n",
       "      console.debug(\"Bokeh: BokehJS plotting callback run at\", now());\n",
       "      run_inline_js();\n",
       "    });\n",
       "  }\n",
       "}(window));"
      ],
      "application/vnd.bokehjs_load.v0+json": "\n(function(root) {\n  function now() {\n    return new Date();\n  }\n\n  var force = true;\n\n  if (typeof root._bokeh_onload_callbacks === \"undefined\" || force === true) {\n    root._bokeh_onload_callbacks = [];\n    root._bokeh_is_loading = undefined;\n  }\n\n  \n\n  \n  if (typeof (root._bokeh_timeout) === \"undefined\" || force === true) {\n    root._bokeh_timeout = Date.now() + 5000;\n    root._bokeh_failed_load = false;\n  }\n\n  var NB_LOAD_WARNING = {'data': {'text/html':\n     \"<div style='background-color: #fdd'>\\n\"+\n     \"<p>\\n\"+\n     \"BokehJS does not appear to have successfully loaded. If loading BokehJS from CDN, this \\n\"+\n     \"may be due to a slow or bad network connection. Possible fixes:\\n\"+\n     \"</p>\\n\"+\n     \"<ul>\\n\"+\n     \"<li>re-rerun `output_notebook()` to attempt to load from CDN again, or</li>\\n\"+\n     \"<li>use INLINE resources instead, as so:</li>\\n\"+\n     \"</ul>\\n\"+\n     \"<code>\\n\"+\n     \"from bokeh.resources import INLINE\\n\"+\n     \"output_notebook(resources=INLINE)\\n\"+\n     \"</code>\\n\"+\n     \"</div>\"}};\n\n  function display_loaded() {\n    var el = document.getElementById(\"1001\");\n    if (el != null) {\n      el.textContent = \"BokehJS is loading...\";\n    }\n    if (root.Bokeh !== undefined) {\n      if (el != null) {\n        el.textContent = \"BokehJS \" + root.Bokeh.version + \" successfully loaded.\";\n      }\n    } else if (Date.now() < root._bokeh_timeout) {\n      setTimeout(display_loaded, 100)\n    }\n  }\n\n\n  function run_callbacks() {\n    try {\n      root._bokeh_onload_callbacks.forEach(function(callback) {\n        if (callback != null)\n          callback();\n      });\n    } finally {\n      delete root._bokeh_onload_callbacks\n    }\n    console.debug(\"Bokeh: all callbacks have finished\");\n  }\n\n  function load_libs(css_urls, js_urls, callback) {\n    if (css_urls == null) css_urls = [];\n    if (js_urls == null) js_urls = [];\n\n    root._bokeh_onload_callbacks.push(callback);\n    if (root._bokeh_is_loading > 0) {\n      console.debug(\"Bokeh: BokehJS is being loaded, scheduling callback at\", now());\n      return null;\n    }\n    if (js_urls == null || js_urls.length === 0) {\n      run_callbacks();\n      return null;\n    }\n    console.debug(\"Bokeh: BokehJS not loaded, scheduling load and callback at\", now());\n    root._bokeh_is_loading = css_urls.length + js_urls.length;\n\n    function on_load() {\n      root._bokeh_is_loading--;\n      if (root._bokeh_is_loading === 0) {\n        console.debug(\"Bokeh: all BokehJS libraries/stylesheets loaded\");\n        run_callbacks()\n      }\n    }\n\n    function on_error() {\n      console.error(\"failed to load \" + url);\n    }\n\n    for (var i = 0; i < css_urls.length; i++) {\n      var url = css_urls[i];\n      const element = document.createElement(\"link\");\n      element.onload = on_load;\n      element.onerror = on_error;\n      element.rel = \"stylesheet\";\n      element.type = \"text/css\";\n      element.href = url;\n      console.debug(\"Bokeh: injecting link tag for BokehJS stylesheet: \", url);\n      document.body.appendChild(element);\n    }\n\n    const hashes = {\"https://cdn.bokeh.org/bokeh/release/bokeh-2.0.1.min.js\": \"JpP8FXbgAZLkfur7LiK3j9AGBhHNIvF742meBJrjO2ShJDhCG2I1uVvW+0DUtrmc\", \"https://cdn.bokeh.org/bokeh/release/bokeh-widgets-2.0.1.min.js\": \"xZlADit0Q04ISQEdKg2k3L4W9AwQBAuDs9nJL9fM/WwzL1tEU9VPNezOFX0nLEAz\", \"https://cdn.bokeh.org/bokeh/release/bokeh-tables-2.0.1.min.js\": \"4BuPRZkdMKSnj3zoxiNrQ86XgNw0rYmBOxe7nshquXwwcauupgBF2DHLVG1WuZlV\", \"https://cdn.bokeh.org/bokeh/release/bokeh-gl-2.0.1.min.js\": \"Dv1SQ87hmDqK6S5OhBf0bCuwAEvL5QYL0PuR/F1SPVhCS/r/abjkbpKDYL2zeM19\"};\n\n    for (var i = 0; i < js_urls.length; i++) {\n      var url = js_urls[i];\n      var element = document.createElement('script');\n      element.onload = on_load;\n      element.onerror = on_error;\n      element.async = false;\n      element.src = url;\n      if (url in hashes) {\n        element.crossOrigin = \"anonymous\";\n        element.integrity = \"sha384-\" + hashes[url];\n      }\n      console.debug(\"Bokeh: injecting script tag for BokehJS library: \", url);\n      document.head.appendChild(element);\n    }\n  };var element = document.getElementById(\"1001\");\n  if (element == null) {\n    console.error(\"Bokeh: ERROR: autoload.js configured with elementid '1001' but no matching script tag was found. \")\n    return false;\n  }\n\n  function inject_raw_css(css) {\n    const element = document.createElement(\"style\");\n    element.appendChild(document.createTextNode(css));\n    document.body.appendChild(element);\n  }\n\n  \n  var js_urls = [\"https://cdn.bokeh.org/bokeh/release/bokeh-2.0.1.min.js\", \"https://cdn.bokeh.org/bokeh/release/bokeh-widgets-2.0.1.min.js\", \"https://cdn.bokeh.org/bokeh/release/bokeh-tables-2.0.1.min.js\", \"https://cdn.bokeh.org/bokeh/release/bokeh-gl-2.0.1.min.js\"];\n  var css_urls = [];\n  \n\n  var inline_js = [\n    function(Bokeh) {\n      Bokeh.set_log_level(\"info\");\n    },\n    function(Bokeh) {\n    \n    \n    }\n  ];\n\n  function run_inline_js() {\n    \n    if (root.Bokeh !== undefined || force === true) {\n      \n    for (var i = 0; i < inline_js.length; i++) {\n      inline_js[i].call(root, root.Bokeh);\n    }\n    if (force === true) {\n        display_loaded();\n      }} else if (Date.now() < root._bokeh_timeout) {\n      setTimeout(run_inline_js, 100);\n    } else if (!root._bokeh_failed_load) {\n      console.log(\"Bokeh: BokehJS failed to load within specified timeout.\");\n      root._bokeh_failed_load = true;\n    } else if (force !== true) {\n      var cell = $(document.getElementById(\"1001\")).parents('.cell').data().cell;\n      cell.output_area.append_execute_result(NB_LOAD_WARNING)\n    }\n\n  }\n\n  if (root._bokeh_is_loading === 0) {\n    console.debug(\"Bokeh: BokehJS loaded, going straight to plotting\");\n    run_inline_js();\n  } else {\n    load_libs(css_urls, js_urls, function() {\n      console.debug(\"Bokeh: BokehJS plotting callback run at\", now());\n      run_inline_js();\n    });\n  }\n}(window));"
     },
     "metadata": {},
     "output_type": "display_data"
    }
   ],
   "source": [
    "bpl.output_notebook()"
   ]
  },
  {
   "cell_type": "markdown",
   "metadata": {},
   "source": [
    "Definición del modelo de CDMX, los detalles del modelo se encuentran en [https://modelo.covid19.cdmx.gob.mx/modelo-epidemico](https://modelo.covid19.cdmx.gob.mx/modelo-epidemico)"
   ]
  },
  {
   "cell_type": "code",
   "execution_count": 3,
   "metadata": {},
   "outputs": [],
   "source": [
    "# Susceptibles equation\n",
    "def dS_dt(S, I, R_t, t_inf):\n",
    "    return -(R_t / t_inf) * I * S\n",
    "\n",
    "# Expuestos equation\n",
    "def dE_dt(S, E, I, R_t, t_inf, t_inc):\n",
    "    return (R_t / t_inf) * I * S - (E / t_inc)\n",
    "\n",
    "# Infectados equation\n",
    "def dI_dt(I, E, t_inc, t_inf):\n",
    "    return (E / t_inc) - (I / t_inf)\n",
    "\n",
    "#Leves equation\n",
    "def dL_dt(I, L, p_grave, t_inf, t_rl):\n",
    "    return (1-p_grave)*(I /t_inf) - (L / t_rl)\n",
    "\n",
    "#Graves equation\n",
    "def dG_dt(I, G, p_grave, t_inf, t_hosp):\n",
    "    return p_grave*(I / t_inf) - (G / t_hosp)\n",
    "\n",
    "# Hospializados equation\n",
    "def dH_dt(G, H, t_hosp, p_icu, t_rh, t_icu):\n",
    "    return (G / t_hosp) - (1-p_icu)*(H / t_rh) - (p_icu)*(H / t_icu)\n",
    "\n",
    "# ICU equation\n",
    "def dICU_dt(H, ICU, p_icu, t_icu, p_m, t_ricu, t_m):\n",
    "    return p_icu*(H / t_icu) - (1-p_m)*(ICU / t_ricu) - p_m*(ICU / t_m)\n",
    "\n",
    "# Recovered equation\n",
    "def dR_dt(L, H, ICU, t_rl, p_icu, t_rh, p_m, t_ricu):\n",
    "    return (L / t_rl) + (1-p_icu)*(H / t_rh) + (1-p_m)*(ICU / t_ricu)\n",
    "\n",
    "# Deaths equation\n",
    "def dD_dt(ICU, t_m, p_m):\n",
    "    return p_m*(ICU / t_m)\n",
    "\n",
    "\n",
    "def CDMX_model(t, y, R_t, t_inf=2.9, t_inc=5.2, t_rh=12, t_rl=14, t_hosp=4, t_icu=1, t_ricu=7, t_m=8, p_m=.03, p_grave=.138, p_icu=0.05):\n",
    "\n",
    "    if callable(R_t):\n",
    "        reprod = R_t(t)\n",
    "    else:\n",
    "        reprod = R_t\n",
    "        \n",
    "    S, E, I, L, G, H, ICU, R, D = y\n",
    "    \n",
    "    S_out = dS_dt(S, I, reprod, t_inf)\n",
    "    E_out = dE_dt(S, E, I, reprod, t_inf, t_inc)\n",
    "    I_out = dI_dt(I, E, t_inc, t_inf)\n",
    "    L_out = dL_dt(I, L, p_grave, t_inf, t_rl)\n",
    "    G_out = dG_dt(I, G, p_grave, t_inf, t_hosp)\n",
    "    H_out = dH_dt(G, H, t_hosp, p_icu, t_rh, t_icu)\n",
    "    ICU_out = dICU_dt(H, ICU, p_icu, t_icu, p_m, t_ricu, t_m)\n",
    "    R_out = dR_dt(L, H, ICU, t_rl, p_icu, t_rh, p_m, t_ricu)\n",
    "    D_out = dD_dt(ICU, t_m, p_m)\n",
    "    return [S_out, E_out, I_out, L_out, G_out, H_out, ICU_out, R_out, D_out]"
   ]
  },
  {
   "cell_type": "markdown",
   "metadata": {},
   "source": [
    "Ejecución del modelo de CDMX con los parámetros que reportan, hay dos instancias, una sin intervenciones y la otra con 3 intervenciones"
   ]
  },
  {
   "cell_type": "code",
   "execution_count": 213,
   "metadata": {},
   "outputs": [],
   "source": [
    "N = 22000000\n",
    "n_infected = 40*2\n",
    "max_days = 200\n",
    "inicio = '2020-03-10'\n",
    "tiempos = pd.date_range(start=inicio, periods=max_days).values\n",
    "serie_tiempos = pd.Series(tiempos)\n",
    "\n",
    "initial_state = [(N - n_infected)/ N, 0, n_infected / N, 0, 0, 0, 0, 0, 0]\n",
    "\n",
    "R_0 = 2.83\n",
    "t_inf=2.9\n",
    "t_inc=5.2\n",
    "t_rh=12\n",
    "t_rl=14\n",
    "t_hosp=4\n",
    "t_icu=1\n",
    "t_ricu = 7\n",
    "t_m=8\n",
    "p_m=.65\n",
    "p_grave=0.138\n",
    "p_icu=0.05\n",
    "\n",
    "intervenciones = [{\"R\":2.83,\"fecha\":inicio},{\"R\":2.2,\"fecha\":\"2020-03-22\"},{\"R\":0.95,\"fecha\":\"2020-03-31\"}]\n",
    "\n",
    "def rep(t):\n",
    "    rfinal = 2.83\n",
    "    for intervencion in intervenciones:\n",
    "        tint = serie_tiempos[(serie_tiempos-pd.Timestamp(intervencion[\"fecha\"])).dt.days==0].index[0]\n",
    "        if (t > tint):\n",
    "            rfinal = intervencion[\"R\"]\n",
    "    return rfinal\n",
    "\n",
    "args_sin_interv = (R_0, t_inf, t_inc, t_rh, t_rl, t_hosp, t_icu, t_ricu, t_m, p_m, p_grave, p_icu)\n",
    "args_con_interv = (rep, t_inf, t_inc, t_rh, t_rl, t_hosp, t_icu, t_ricu, t_m, p_m, p_grave, p_icu)\n",
    "\n",
    "sol_sin_interv = solve_ivp(CDMX_model, [0, max_days], initial_state, args=args_sin_interv, t_eval=np.arange(max_days))\n",
    "sol_con_interv = solve_ivp(CDMX_model, [0, max_days], initial_state, args=args_con_interv, t_eval=np.arange(max_days))"
   ]
  },
  {
   "cell_type": "code",
   "execution_count": 511,
   "metadata": {},
   "outputs": [],
   "source": [
    "labels = [\"Susceptibles\",\"Expuestos\",\"Infectados\",\"Leves\",\"Graves\",\"Hospitalizados\",\"ICUs\",\"Recuperados\",\"Defunciones\"]\n",
    "colores = {\"Susceptibles\":\"#969696\",\n",
    "           \"Recuperados\":\"Green\",\n",
    "           \"Expuestos\":\"Pink\",\n",
    "           \"Infectados\":\"Red\",\n",
    "           \"Leves\":\"#807DBA\",\n",
    "           \"Graves\":\"#54278F\",\n",
    "           \"Hospitalizados\":\"#CC4C02\",\n",
    "           \"ICUs\":\"#662506\",\n",
    "           \"Defunciones\":\"#525252\"}"
   ]
  },
  {
   "cell_type": "code",
   "execution_count": 512,
   "metadata": {},
   "outputs": [],
   "source": [
    "solucion_sin = pd.DataFrame(sol_sin_interv.y.T*N,columns=labels,index=sol_sin_interv.t)\n",
    "solucion_con = pd.DataFrame(sol_con_interv.y.T*N,columns=labels,index=sol_con_interv.t)"
   ]
  },
  {
   "cell_type": "code",
   "execution_count": 513,
   "metadata": {},
   "outputs": [],
   "source": [
    "solucion_sin[\"Fecha\"] = tiempos\n",
    "solucion_con[\"Fecha\"] = tiempos"
   ]
  },
  {
   "cell_type": "code",
   "execution_count": 514,
   "metadata": {},
   "outputs": [],
   "source": [
    "p = bpl.figure(x_axis_type=\"datetime\",plot_width=800,plot_height=600,title=\"Modelo CDMX\")"
   ]
  },
  {
   "cell_type": "code",
   "execution_count": 515,
   "metadata": {},
   "outputs": [],
   "source": [
    "for label in [\"ICUs\"]:\n",
    "    #p.line(x=solucion_sin[\"Fecha\"],y=solucion_sin[label]/1000,color=colores[label],line_width=3,legend_label=label,line_alpha=0.5)\n",
    "    p.line(x=solucion_con[\"Fecha\"],y=solucion_con[label]/1000,color=colores[label],line_width=3,legend_label=label,line_alpha=0.5,line_dash=\"dotted\")"
   ]
  },
  {
   "cell_type": "code",
   "execution_count": 516,
   "metadata": {},
   "outputs": [],
   "source": [
    "p.xaxis.axis_label = 'Fecha'\n",
    "p.yaxis.axis_label = 'Miles de personas'\n",
    "p.legend.location = \"center_right\""
   ]
  },
  {
   "cell_type": "code",
   "execution_count": 517,
   "metadata": {},
   "outputs": [
    {
     "data": {
      "text/html": [
       "\n",
       "\n",
       "\n",
       "\n",
       "\n",
       "\n",
       "  <div class=\"bk-root\" id=\"a32f6487-454d-43ee-8f19-c324026afd4a\" data-root-id=\"67723\"></div>\n"
      ]
     },
     "metadata": {},
     "output_type": "display_data"
    },
    {
     "data": {
      "application/javascript": [
       "(function(root) {\n",
       "  function embed_document(root) {\n",
       "    \n",
       "  var docs_json = {\"a7e186b4-3bc2-4aee-ba30-93b931d4fa5e\":{\"roots\":{\"references\":[{\"attributes\":{\"below\":[{\"id\":\"67734\"}],\"center\":[{\"id\":\"67737\"},{\"id\":\"67741\"},{\"id\":\"67779\"}],\"left\":[{\"id\":\"67738\"}],\"plot_width\":800,\"renderers\":[{\"id\":\"67759\"}],\"title\":{\"id\":\"67724\"},\"toolbar\":{\"id\":\"67749\"},\"x_range\":{\"id\":\"67726\"},\"x_scale\":{\"id\":\"67730\"},\"y_range\":{\"id\":\"67728\"},\"y_scale\":{\"id\":\"67732\"}},\"id\":\"67723\",\"subtype\":\"Figure\",\"type\":\"Plot\"},{\"attributes\":{\"axis_label\":\"Fecha\",\"formatter\":{\"id\":\"67763\"},\"ticker\":{\"id\":\"67735\"}},\"id\":\"67734\",\"type\":\"DatetimeAxis\"},{\"attributes\":{\"active_drag\":\"auto\",\"active_inspect\":\"auto\",\"active_multi\":null,\"active_scroll\":\"auto\",\"active_tap\":\"auto\",\"tools\":[{\"id\":\"67742\"},{\"id\":\"67743\"},{\"id\":\"67744\"},{\"id\":\"67745\"},{\"id\":\"67746\"},{\"id\":\"67747\"}]},\"id\":\"67749\",\"type\":\"Toolbar\"},{\"attributes\":{\"months\":[0,4,8]},\"id\":\"67775\",\"type\":\"MonthsTicker\"},{\"attributes\":{},\"id\":\"67726\",\"type\":\"DataRange1d\"},{\"attributes\":{\"label\":{\"value\":\"ICUs\"},\"renderers\":[{\"id\":\"67759\"}]},\"id\":\"67780\",\"type\":\"LegendItem\"},{\"attributes\":{},\"id\":\"67747\",\"type\":\"HelpTool\"},{\"attributes\":{},\"id\":\"67765\",\"type\":\"BasicTickFormatter\"},{\"attributes\":{\"data_source\":{\"id\":\"67756\"},\"glyph\":{\"id\":\"67757\"},\"hover_glyph\":null,\"muted_glyph\":null,\"nonselection_glyph\":{\"id\":\"67758\"},\"selection_glyph\":null,\"view\":{\"id\":\"67760\"}},\"id\":\"67759\",\"type\":\"GlyphRenderer\"},{\"attributes\":{\"base\":24,\"mantissas\":[1,2,4,6,8,12],\"max_interval\":43200000.0,\"min_interval\":3600000.0,\"num_minor_ticks\":0},\"id\":\"67768\",\"type\":\"AdaptiveTicker\"},{\"attributes\":{},\"id\":\"67732\",\"type\":\"LinearScale\"},{\"attributes\":{},\"id\":\"67746\",\"type\":\"ResetTool\"},{\"attributes\":{\"days\":[1,15]},\"id\":\"67772\",\"type\":\"DaysTicker\"},{\"attributes\":{},\"id\":\"67728\",\"type\":\"DataRange1d\"},{\"attributes\":{\"num_minor_ticks\":5,\"tickers\":[{\"id\":\"67766\"},{\"id\":\"67767\"},{\"id\":\"67768\"},{\"id\":\"67769\"},{\"id\":\"67770\"},{\"id\":\"67771\"},{\"id\":\"67772\"},{\"id\":\"67773\"},{\"id\":\"67774\"},{\"id\":\"67775\"},{\"id\":\"67776\"},{\"id\":\"67777\"}]},\"id\":\"67735\",\"type\":\"DatetimeTicker\"},{\"attributes\":{\"axis\":{\"id\":\"67738\"},\"dimension\":1,\"ticker\":null},\"id\":\"67741\",\"type\":\"Grid\"},{\"attributes\":{\"line_alpha\":0.5,\"line_color\":\"#662506\",\"line_dash\":[2,4],\"line_width\":3,\"x\":{\"field\":\"x\"},\"y\":{\"field\":\"y\"}},\"id\":\"67757\",\"type\":\"Line\"},{\"attributes\":{\"text\":\"Modelo CDMX\"},\"id\":\"67724\",\"type\":\"Title\"},{\"attributes\":{\"mantissas\":[1,2,5],\"max_interval\":500.0,\"num_minor_ticks\":0},\"id\":\"67766\",\"type\":\"AdaptiveTicker\"},{\"attributes\":{},\"id\":\"69223\",\"type\":\"UnionRenderers\"},{\"attributes\":{\"items\":[{\"id\":\"67780\"}],\"location\":\"center_right\"},\"id\":\"67779\",\"type\":\"Legend\"},{\"attributes\":{\"axis\":{\"id\":\"67734\"},\"ticker\":null},\"id\":\"67737\",\"type\":\"Grid\"},{\"attributes\":{\"source\":{\"id\":\"67756\"}},\"id\":\"67760\",\"type\":\"CDSView\"},{\"attributes\":{\"months\":[0,6]},\"id\":\"67776\",\"type\":\"MonthsTicker\"},{\"attributes\":{\"months\":[0,1,2,3,4,5,6,7,8,9,10,11]},\"id\":\"67773\",\"type\":\"MonthsTicker\"},{\"attributes\":{\"base\":60,\"mantissas\":[1,2,5,10,15,20,30],\"max_interval\":1800000.0,\"min_interval\":1000.0,\"num_minor_ticks\":0},\"id\":\"67767\",\"type\":\"AdaptiveTicker\"},{\"attributes\":{\"overlay\":{\"id\":\"67748\"}},\"id\":\"67744\",\"type\":\"BoxZoomTool\"},{\"attributes\":{\"days\":[1,4,7,10,13,16,19,22,25,28]},\"id\":\"67770\",\"type\":\"DaysTicker\"},{\"attributes\":{\"days\":[1,8,15,22]},\"id\":\"67771\",\"type\":\"DaysTicker\"},{\"attributes\":{\"bottom_units\":\"screen\",\"fill_alpha\":0.5,\"fill_color\":\"lightgrey\",\"left_units\":\"screen\",\"level\":\"overlay\",\"line_alpha\":1.0,\"line_color\":\"black\",\"line_dash\":[4,4],\"line_width\":2,\"render_mode\":\"css\",\"right_units\":\"screen\",\"top_units\":\"screen\"},\"id\":\"67748\",\"type\":\"BoxAnnotation\"},{\"attributes\":{},\"id\":\"67730\",\"type\":\"LinearScale\"},{\"attributes\":{},\"id\":\"67743\",\"type\":\"WheelZoomTool\"},{\"attributes\":{\"line_alpha\":0.1,\"line_color\":\"#662506\",\"line_dash\":[2,4],\"line_width\":3,\"x\":{\"field\":\"x\"},\"y\":{\"field\":\"y\"}},\"id\":\"67758\",\"type\":\"Line\"},{\"attributes\":{},\"id\":\"67739\",\"type\":\"BasicTicker\"},{\"attributes\":{},\"id\":\"69224\",\"type\":\"Selection\"},{\"attributes\":{},\"id\":\"67742\",\"type\":\"PanTool\"},{\"attributes\":{\"days\":[1,2,3,4,5,6,7,8,9,10,11,12,13,14,15,16,17,18,19,20,21,22,23,24,25,26,27,28,29,30,31]},\"id\":\"67769\",\"type\":\"DaysTicker\"},{\"attributes\":{},\"id\":\"67745\",\"type\":\"SaveTool\"},{\"attributes\":{\"axis_label\":\"Miles de personas\",\"formatter\":{\"id\":\"67765\"},\"ticker\":{\"id\":\"67739\"}},\"id\":\"67738\",\"type\":\"LinearAxis\"},{\"attributes\":{},\"id\":\"67777\",\"type\":\"YearsTicker\"},{\"attributes\":{\"months\":[0,2,4,6,8,10]},\"id\":\"67774\",\"type\":\"MonthsTicker\"},{\"attributes\":{\"data\":{\"x\":{\"__ndarray__\":\"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\",\"dtype\":\"float64\",\"shape\":[200]},\"y\":{\"__ndarray__\":\"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\",\"dtype\":\"float64\",\"shape\":[200]}},\"selected\":{\"id\":\"69224\"},\"selection_policy\":{\"id\":\"69223\"}},\"id\":\"67756\",\"type\":\"ColumnDataSource\"},{\"attributes\":{},\"id\":\"67763\",\"type\":\"DatetimeTickFormatter\"}],\"root_ids\":[\"67723\"]},\"title\":\"Bokeh Application\",\"version\":\"2.0.1\"}};\n",
       "  var render_items = [{\"docid\":\"a7e186b4-3bc2-4aee-ba30-93b931d4fa5e\",\"root_ids\":[\"67723\"],\"roots\":{\"67723\":\"a32f6487-454d-43ee-8f19-c324026afd4a\"}}];\n",
       "  root.Bokeh.embed.embed_items_notebook(docs_json, render_items);\n",
       "\n",
       "  }\n",
       "  if (root.Bokeh !== undefined) {\n",
       "    embed_document(root);\n",
       "  } else {\n",
       "    var attempts = 0;\n",
       "    var timer = setInterval(function(root) {\n",
       "      if (root.Bokeh !== undefined) {\n",
       "        clearInterval(timer);\n",
       "        embed_document(root);\n",
       "      } else {\n",
       "        attempts++;\n",
       "        if (attempts > 100) {\n",
       "          clearInterval(timer);\n",
       "          console.log(\"Bokeh: ERROR: Unable to run BokehJS code because BokehJS library is missing\");\n",
       "        }\n",
       "      }\n",
       "    }, 10, root)\n",
       "  }\n",
       "})(window);"
      ],
      "application/vnd.bokehjs_exec.v0+json": ""
     },
     "metadata": {
      "application/vnd.bokehjs_exec.v0+json": {
       "id": "67723"
      }
     },
     "output_type": "display_data"
    }
   ],
   "source": [
    "bpl.show(p)"
   ]
  },
  {
   "cell_type": "markdown",
   "metadata": {},
   "source": [
    "Obtención de los últimos datos para México"
   ]
  },
  {
   "cell_type": "code",
   "execution_count": 201,
   "metadata": {},
   "outputs": [],
   "source": [
    "urlnew = \"http://187.191.75.115/gobmx/salud/datos_abiertos/datos_abiertos_covid19.zip\"\n",
    "fecha_archivo = pd.Timestamp(\"2020-05-15\")"
   ]
  },
  {
   "cell_type": "code",
   "execution_count": 21,
   "metadata": {},
   "outputs": [],
   "source": [
    "archivo = fecha_archivo.strftime(\"%y%m%d\")+\"COVID19MEXICO.csv\""
   ]
  },
  {
   "cell_type": "code",
   "execution_count": 18,
   "metadata": {},
   "outputs": [],
   "source": [
    "r = requests.get(urlnew)\n",
    "z = zipfile.ZipFile(io.BytesIO(r.content))\n",
    "z.extractall(path=\"./datos_federales/\")"
   ]
  },
  {
   "cell_type": "code",
   "execution_count": 34,
   "metadata": {},
   "outputs": [],
   "source": [
    "data = pd.read_csv('./datos_federales/' + archivo,encoding=\"latin1\", low_memory=False)"
   ]
  },
  {
   "cell_type": "code",
   "execution_count": 35,
   "metadata": {},
   "outputs": [],
   "source": [
    "data[\"FECHA_ACTUALIZACION\"] = pd.to_datetime(data[\"FECHA_ACTUALIZACION\"],format=\"%Y-%m-%d\")\n",
    "data[\"FECHA_INGRESO\"] = pd.to_datetime(data[\"FECHA_INGRESO\"],format=\"%Y-%m-%d\")\n",
    "data[\"FECHA_DEF\"] = pd.to_datetime(data[\"FECHA_DEF\"].replace({\"9999-99-99\":None}),format=\"%Y-%m-%d\")\n",
    "data[\"FECHA_SINTOMAS\"] = pd.to_datetime(data[\"FECHA_SINTOMAS\"],format=\"%Y-%m-%d\")"
   ]
  },
  {
   "cell_type": "markdown",
   "metadata": {},
   "source": [
    "Filtrado de datos"
   ]
  },
  {
   "cell_type": "code",
   "execution_count": 36,
   "metadata": {},
   "outputs": [],
   "source": [
    "data_cdmx = data[(data[\"RESULTADO\"]==1)&(data[\"ENTIDAD_UM\"]==9)]"
   ]
  },
  {
   "cell_type": "code",
   "execution_count": 67,
   "metadata": {},
   "outputs": [],
   "source": [
    "time_index = pd.date_range(data_cdmx[\"FECHA_SINTOMAS\"].min(), fecha_archivo, freq='1D')"
   ]
  },
  {
   "cell_type": "code",
   "execution_count": 68,
   "metadata": {},
   "outputs": [],
   "source": [
    "casos = data_cdmx.groupby(\"FECHA_SINTOMAS\").size().to_frame(\"Confirmados\").reindex(time_index)"
   ]
  },
  {
   "cell_type": "code",
   "execution_count": 70,
   "metadata": {},
   "outputs": [],
   "source": [
    "casos[\"Decesos\"] = data_cdmx.groupby(\"FECHA_DEF\").size()"
   ]
  },
  {
   "cell_type": "code",
   "execution_count": 81,
   "metadata": {},
   "outputs": [],
   "source": [
    "casos[\"Confirmados_acumulados\"] = casos[\"Confirmados\"].fillna(0).cumsum()\n",
    "casos[\"Decesos_acumulados\"] = casos[\"Decesos\"].fillna(0).cumsum()"
   ]
  },
  {
   "cell_type": "code",
   "execution_count": 204,
   "metadata": {},
   "outputs": [
    {
     "data": {
      "text/html": [
       "<div>\n",
       "<style scoped>\n",
       "    .dataframe tbody tr th:only-of-type {\n",
       "        vertical-align: middle;\n",
       "    }\n",
       "\n",
       "    .dataframe tbody tr th {\n",
       "        vertical-align: top;\n",
       "    }\n",
       "\n",
       "    .dataframe thead th {\n",
       "        text-align: right;\n",
       "    }\n",
       "</style>\n",
       "<table border=\"1\" class=\"dataframe\">\n",
       "  <thead>\n",
       "    <tr style=\"text-align: right;\">\n",
       "      <th></th>\n",
       "      <th>Confirmados</th>\n",
       "      <th>Decesos</th>\n",
       "      <th>Confirmados_acumulados</th>\n",
       "      <th>Decesos_acumulados</th>\n",
       "    </tr>\n",
       "  </thead>\n",
       "  <tbody>\n",
       "    <tr>\n",
       "      <th>2020-03-10</th>\n",
       "      <td>26.0</td>\n",
       "      <td>NaN</td>\n",
       "      <td>94.0</td>\n",
       "      <td>0.0</td>\n",
       "    </tr>\n",
       "    <tr>\n",
       "      <th>2020-03-11</th>\n",
       "      <td>23.0</td>\n",
       "      <td>NaN</td>\n",
       "      <td>117.0</td>\n",
       "      <td>0.0</td>\n",
       "    </tr>\n",
       "    <tr>\n",
       "      <th>2020-03-12</th>\n",
       "      <td>21.0</td>\n",
       "      <td>NaN</td>\n",
       "      <td>138.0</td>\n",
       "      <td>0.0</td>\n",
       "    </tr>\n",
       "    <tr>\n",
       "      <th>2020-03-13</th>\n",
       "      <td>36.0</td>\n",
       "      <td>NaN</td>\n",
       "      <td>174.0</td>\n",
       "      <td>0.0</td>\n",
       "    </tr>\n",
       "    <tr>\n",
       "      <th>2020-03-14</th>\n",
       "      <td>38.0</td>\n",
       "      <td>NaN</td>\n",
       "      <td>212.0</td>\n",
       "      <td>0.0</td>\n",
       "    </tr>\n",
       "  </tbody>\n",
       "</table>\n",
       "</div>"
      ],
      "text/plain": [
       "            Confirmados  Decesos  Confirmados_acumulados  Decesos_acumulados\n",
       "2020-03-10         26.0      NaN                    94.0                 0.0\n",
       "2020-03-11         23.0      NaN                   117.0                 0.0\n",
       "2020-03-12         21.0      NaN                   138.0                 0.0\n",
       "2020-03-13         36.0      NaN                   174.0                 0.0\n",
       "2020-03-14         38.0      NaN                   212.0                 0.0"
      ]
     },
     "execution_count": 204,
     "metadata": {},
     "output_type": "execute_result"
    }
   ],
   "source": [
    "casos[40:45]"
   ]
  },
  {
   "cell_type": "markdown",
   "metadata": {},
   "source": [
    "Graficado de datos para CDMX"
   ]
  },
  {
   "cell_type": "code",
   "execution_count": 158,
   "metadata": {},
   "outputs": [],
   "source": [
    "s = bpl.figure(x_axis_type=\"datetime\",plot_width=1000,plot_height=600,x_range=(pd.Timestamp(\"2020-02-14\"),pd.Timestamp(\"2020-03-30\")),y_range=(0,800))"
   ]
  },
  {
   "cell_type": "code",
   "execution_count": 159,
   "metadata": {},
   "outputs": [
    {
     "data": {
      "text/html": [
       "<div style=\"display: table;\"><div style=\"display: table-row;\"><div style=\"display: table-cell;\"><b title=\"bokeh.models.renderers.GlyphRenderer\">GlyphRenderer</b>(</div><div style=\"display: table-cell;\">id&nbsp;=&nbsp;'13400', <span id=\"13403\" style=\"cursor: pointer;\">&hellip;)</span></div></div><div class=\"13402\" style=\"display: none;\"><div style=\"display: table-cell;\"></div><div style=\"display: table-cell;\">data_source&nbsp;=&nbsp;ColumnDataSource(id='13397', ...),</div></div><div class=\"13402\" style=\"display: none;\"><div style=\"display: table-cell;\"></div><div style=\"display: table-cell;\">glyph&nbsp;=&nbsp;Quad(id='13398', ...),</div></div><div class=\"13402\" style=\"display: none;\"><div style=\"display: table-cell;\"></div><div style=\"display: table-cell;\">hover_glyph&nbsp;=&nbsp;None,</div></div><div class=\"13402\" style=\"display: none;\"><div style=\"display: table-cell;\"></div><div style=\"display: table-cell;\">js_event_callbacks&nbsp;=&nbsp;{},</div></div><div class=\"13402\" style=\"display: none;\"><div style=\"display: table-cell;\"></div><div style=\"display: table-cell;\">js_property_callbacks&nbsp;=&nbsp;{},</div></div><div class=\"13402\" style=\"display: none;\"><div style=\"display: table-cell;\"></div><div style=\"display: table-cell;\">level&nbsp;=&nbsp;'glyph',</div></div><div class=\"13402\" style=\"display: none;\"><div style=\"display: table-cell;\"></div><div style=\"display: table-cell;\">muted&nbsp;=&nbsp;False,</div></div><div class=\"13402\" style=\"display: none;\"><div style=\"display: table-cell;\"></div><div style=\"display: table-cell;\">muted_glyph&nbsp;=&nbsp;None,</div></div><div class=\"13402\" style=\"display: none;\"><div style=\"display: table-cell;\"></div><div style=\"display: table-cell;\">name&nbsp;=&nbsp;None,</div></div><div class=\"13402\" style=\"display: none;\"><div style=\"display: table-cell;\"></div><div style=\"display: table-cell;\">nonselection_glyph&nbsp;=&nbsp;Quad(id='13399', ...),</div></div><div class=\"13402\" style=\"display: none;\"><div style=\"display: table-cell;\"></div><div style=\"display: table-cell;\">selection_glyph&nbsp;=&nbsp;None,</div></div><div class=\"13402\" style=\"display: none;\"><div style=\"display: table-cell;\"></div><div style=\"display: table-cell;\">subscribed_events&nbsp;=&nbsp;[],</div></div><div class=\"13402\" style=\"display: none;\"><div style=\"display: table-cell;\"></div><div style=\"display: table-cell;\">tags&nbsp;=&nbsp;[],</div></div><div class=\"13402\" style=\"display: none;\"><div style=\"display: table-cell;\"></div><div style=\"display: table-cell;\">view&nbsp;=&nbsp;CDSView(id='13401', ...),</div></div><div class=\"13402\" style=\"display: none;\"><div style=\"display: table-cell;\"></div><div style=\"display: table-cell;\">visible&nbsp;=&nbsp;True,</div></div><div class=\"13402\" style=\"display: none;\"><div style=\"display: table-cell;\"></div><div style=\"display: table-cell;\">x_range_name&nbsp;=&nbsp;'default',</div></div><div class=\"13402\" style=\"display: none;\"><div style=\"display: table-cell;\"></div><div style=\"display: table-cell;\">y_range_name&nbsp;=&nbsp;'default')</div></div></div>\n",
       "<script>\n",
       "(function() {\n",
       "  var expanded = false;\n",
       "  var ellipsis = document.getElementById(\"13403\");\n",
       "  ellipsis.addEventListener(\"click\", function() {\n",
       "    var rows = document.getElementsByClassName(\"13402\");\n",
       "    for (var i = 0; i < rows.length; i++) {\n",
       "      var el = rows[i];\n",
       "      el.style.display = expanded ? \"none\" : \"table-row\";\n",
       "    }\n",
       "    ellipsis.innerHTML = expanded ? \"&hellip;)\" : \"&lsaquo;&lsaquo;&lsaquo;\";\n",
       "    expanded = !expanded;\n",
       "  });\n",
       "})();\n",
       "</script>\n"
      ],
      "text/plain": [
       "GlyphRenderer(id='13400', ...)"
      ]
     },
     "execution_count": 159,
     "metadata": {},
     "output_type": "execute_result"
    }
   ],
   "source": [
    "s.quad(left=time_index,right=time_index+pd.Timedelta(\"1 days\")*0.9,top=casos[\"Confirmados_acumulados\"],bottom=1)\n",
    "s.quad(left=time_index,right=time_index+pd.Timedelta(\"1 days\")*0.9,top=casos[\"Decesos_acumulados\"],bottom=1,color=\"red\")"
   ]
  },
  {
   "cell_type": "code",
   "execution_count": 160,
   "metadata": {},
   "outputs": [
    {
     "data": {
      "text/html": [
       "\n",
       "\n",
       "\n",
       "\n",
       "\n",
       "\n",
       "  <div class=\"bk-root\" id=\"a76723c1-e841-4635-b46e-0144f41158aa\" data-root-id=\"13361\"></div>\n"
      ]
     },
     "metadata": {},
     "output_type": "display_data"
    },
    {
     "data": {
      "application/javascript": [
       "(function(root) {\n",
       "  function embed_document(root) {\n",
       "    \n",
       "  var docs_json = {\"15f38be6-3618-402f-9171-f59dc66fdefa\":{\"roots\":{\"references\":[{\"attributes\":{\"below\":[{\"id\":\"13370\"}],\"center\":[{\"id\":\"13373\"},{\"id\":\"13377\"}],\"left\":[{\"id\":\"13374\"}],\"plot_width\":1000,\"renderers\":[{\"id\":\"13395\"},{\"id\":\"13400\"}],\"title\":{\"id\":\"13946\"},\"toolbar\":{\"id\":\"13385\"},\"x_range\":{\"id\":\"13362\"},\"x_scale\":{\"id\":\"13366\"},\"y_range\":{\"id\":\"13364\"},\"y_scale\":{\"id\":\"13368\"}},\"id\":\"13361\",\"subtype\":\"Figure\",\"type\":\"Plot\"},{\"attributes\":{},\"id\":\"13382\",\"type\":\"ResetTool\"},{\"attributes\":{\"days\":[1,8,15,22]},\"id\":\"13956\",\"type\":\"DaysTicker\"},{\"attributes\":{\"source\":{\"id\":\"13397\"}},\"id\":\"13401\",\"type\":\"CDSView\"},{\"attributes\":{\"days\":[1,4,7,10,13,16,19,22,25,28]},\"id\":\"13955\",\"type\":\"DaysTicker\"},{\"attributes\":{},\"id\":\"13948\",\"type\":\"DatetimeTickFormatter\"},{\"attributes\":{\"active_drag\":\"auto\",\"active_inspect\":\"auto\",\"active_multi\":null,\"active_scroll\":\"auto\",\"active_tap\":\"auto\",\"tools\":[{\"id\":\"13378\"},{\"id\":\"13379\"},{\"id\":\"13380\"},{\"id\":\"13381\"},{\"id\":\"13382\"},{\"id\":\"13383\"}]},\"id\":\"13385\",\"type\":\"Toolbar\"},{\"attributes\":{\"end\":800},\"id\":\"13364\",\"type\":\"Range1d\"},{\"attributes\":{\"bottom\":{\"value\":1},\"fill_alpha\":{\"value\":0.1},\"fill_color\":{\"value\":\"#1f77b4\"},\"left\":{\"field\":\"left\"},\"line_alpha\":{\"value\":0.1},\"line_color\":{\"value\":\"#1f77b4\"},\"right\":{\"field\":\"right\"},\"top\":{\"field\":\"top\"}},\"id\":\"13394\",\"type\":\"Quad\"},{\"attributes\":{\"months\":[0,2,4,6,8,10]},\"id\":\"13959\",\"type\":\"MonthsTicker\"},{\"attributes\":{\"days\":[1,15]},\"id\":\"13957\",\"type\":\"DaysTicker\"},{\"attributes\":{\"axis\":{\"id\":\"13370\"},\"ticker\":null},\"id\":\"13373\",\"type\":\"Grid\"},{\"attributes\":{\"data_source\":{\"id\":\"13392\"},\"glyph\":{\"id\":\"13393\"},\"hover_glyph\":null,\"muted_glyph\":null,\"nonselection_glyph\":{\"id\":\"13394\"},\"selection_glyph\":null,\"view\":{\"id\":\"13396\"}},\"id\":\"13395\",\"type\":\"GlyphRenderer\"},{\"attributes\":{},\"id\":\"13381\",\"type\":\"SaveTool\"},{\"attributes\":{\"bottom\":{\"value\":1},\"fill_color\":{\"value\":\"#1f77b4\"},\"left\":{\"field\":\"left\"},\"line_color\":{\"value\":\"#1f77b4\"},\"right\":{\"field\":\"right\"},\"top\":{\"field\":\"top\"}},\"id\":\"13393\",\"type\":\"Quad\"},{\"attributes\":{},\"id\":\"13962\",\"type\":\"YearsTicker\"},{\"attributes\":{\"mantissas\":[1,2,5],\"max_interval\":500.0,\"num_minor_ticks\":0},\"id\":\"13951\",\"type\":\"AdaptiveTicker\"},{\"attributes\":{\"months\":[0,1,2,3,4,5,6,7,8,9,10,11]},\"id\":\"13958\",\"type\":\"MonthsTicker\"},{\"attributes\":{\"months\":[0,6]},\"id\":\"13961\",\"type\":\"MonthsTicker\"},{\"attributes\":{\"bottom\":{\"value\":1},\"fill_alpha\":{\"value\":0.1},\"fill_color\":{\"value\":\"red\"},\"left\":{\"field\":\"left\"},\"line_alpha\":{\"value\":0.1},\"line_color\":{\"value\":\"red\"},\"right\":{\"field\":\"right\"},\"top\":{\"field\":\"top\"}},\"id\":\"13399\",\"type\":\"Quad\"},{\"attributes\":{\"months\":[0,4,8]},\"id\":\"13960\",\"type\":\"MonthsTicker\"},{\"attributes\":{\"end\":1585526400000.0,\"start\":1581638400000.0},\"id\":\"13362\",\"type\":\"Range1d\"},{\"attributes\":{\"days\":[1,2,3,4,5,6,7,8,9,10,11,12,13,14,15,16,17,18,19,20,21,22,23,24,25,26,27,28,29,30,31]},\"id\":\"13954\",\"type\":\"DaysTicker\"},{\"attributes\":{},\"id\":\"13964\",\"type\":\"UnionRenderers\"},{\"attributes\":{\"text\":\"\"},\"id\":\"13946\",\"type\":\"Title\"},{\"attributes\":{\"base\":24,\"mantissas\":[1,2,4,6,8,12],\"max_interval\":43200000.0,\"min_interval\":3600000.0,\"num_minor_ticks\":0},\"id\":\"13953\",\"type\":\"AdaptiveTicker\"},{\"attributes\":{\"axis\":{\"id\":\"13374\"},\"dimension\":1,\"ticker\":null},\"id\":\"13377\",\"type\":\"Grid\"},{\"attributes\":{\"data_source\":{\"id\":\"13397\"},\"glyph\":{\"id\":\"13398\"},\"hover_glyph\":null,\"muted_glyph\":null,\"nonselection_glyph\":{\"id\":\"13399\"},\"selection_glyph\":null,\"view\":{\"id\":\"13401\"}},\"id\":\"13400\",\"type\":\"GlyphRenderer\"},{\"attributes\":{\"overlay\":{\"id\":\"13384\"}},\"id\":\"13380\",\"type\":\"BoxZoomTool\"},{\"attributes\":{\"formatter\":{\"id\":\"13950\"},\"ticker\":{\"id\":\"13375\"}},\"id\":\"13374\",\"type\":\"LinearAxis\"},{\"attributes\":{},\"id\":\"13967\",\"type\":\"Selection\"},{\"attributes\":{\"formatter\":{\"id\":\"13948\"},\"ticker\":{\"id\":\"13371\"}},\"id\":\"13370\",\"type\":\"DatetimeAxis\"},{\"attributes\":{\"num_minor_ticks\":5,\"tickers\":[{\"id\":\"13951\"},{\"id\":\"13952\"},{\"id\":\"13953\"},{\"id\":\"13954\"},{\"id\":\"13955\"},{\"id\":\"13956\"},{\"id\":\"13957\"},{\"id\":\"13958\"},{\"id\":\"13959\"},{\"id\":\"13960\"},{\"id\":\"13961\"},{\"id\":\"13962\"}]},\"id\":\"13371\",\"type\":\"DatetimeTicker\"},{\"attributes\":{},\"id\":\"13379\",\"type\":\"WheelZoomTool\"},{\"attributes\":{\"data\":{\"left\":{\"__ndarray__\":\"AABA9Tv/dkIAAABbjv92QgAAwMDg/3ZCAACAJjMAd0IAAECMhQB3QgAAAPLXAHdCAADAVyoBd0IAAIC9fAF3QgAAQCPPAXdCAAAAiSECd0IAAMDucwJ3QgAAgFTGAndCAABAuhgDd0IAAAAgawN3QgAAwIW9A3dCAACA6w8Ed0IAAEBRYgR3QgAAALe0BHdCAADAHAcFd0IAAICCWQV3QgAAQOirBXdCAAAATv4Fd0IAAMCzUAZ3QgAAgBmjBndCAABAf/UGd0IAAADlRwd3QgAAwEqaB3dCAACAsOwHd0IAAEAWPwh3QgAAAHyRCHdCAADA4eMId0IAAIBHNgl3QgAAQK2ICXdCAAAAE9sJd0IAAMB4LQp3QgAAgN5/CndCAABARNIKd0IAAACqJAt3QgAAwA93C3dCAACAdckLd0IAAEDbGwx3QgAAAEFuDHdCAADApsAMd0IAAIAMEw13QgAAQHJlDXdCAAAA2LcNd0IAAMA9Cg53QgAAgKNcDndCAABACa8Od0IAAABvAQ93QgAAwNRTD3dCAACAOqYPd0IAAECg+A93QgAAAAZLEHdCAADAa50Qd0IAAIDR7xB3QgAAQDdCEXdCAAAAnZQRd0IAAMAC5xF3QgAAgGg5EndCAABAzosSd0IAAAA03hJ3QgAAwJkwE3dCAACA/4ITd0IAAEBl1RN3QgAAAMsnFHdCAADAMHoUd0IAAICWzBR3QgAAQPweFXdCAAAAYnEVd0IAAMDHwxV3QgAAgC0WFndCAABAk2gWd0IAAAD5uhZ3QgAAwF4NF3dCAACAxF8Xd0IAAEAqshd3QgAAAJAEGHdCAADA9VYYd0IAAIBbqRh3QgAAQMH7GHdCAAAAJ04Zd0IAAMCMoBl3QgAAgPLyGXdCAABAWEUad0IAAAC+lxp3QgAAwCPqGndCAACAiTwbd0IAAEDvjht3QgAAAFXhG3dCAADAujMcd0IAAIAghhx3QgAAQIbYHHdCAAAA7Codd0IAAMBRfR13QgAAgLfPHXdCAABAHSIed0IAAACDdB53QgAAwOjGHndCAACAThkfd0IAAEC0ax93QgAAABq+H3dCAADAfxAgd0IAAIDlYiB3QgAAQEu1IHdCAAAAsQchd0IAAMAWWiF3Qg==\",\"dtype\":\"float64\",\"shape\":[107]},\"right\":{\"__ndarray__\":\"AACgHYb/dkIAAGCD2P92QgAAIOkqAHdCAADgTn0Ad0IAAKC0zwB3QgAAYBoiAXdCAAAggHQBd0IAAODlxgF3QgAAoEsZAndCAABgsWsCd0IAACAXvgJ3QgAA4HwQA3dCAACg4mIDd0IAAGBItQN3QgAAIK4HBHdCAADgE1oEd0IAAKB5rAR3QgAAYN/+BHdCAAAgRVEFd0IAAOCqowV3QgAAoBD2BXdCAABgdkgGd0IAACDcmgZ3QgAA4EHtBndCAACgpz8Hd0IAAGANkgd3QgAAIHPkB3dCAADg2DYId0IAAKA+iQh3QgAAYKTbCHdCAAAgCi4Jd0IAAOBvgAl3QgAAoNXSCXdCAABgOyUKd0IAACChdwp3QgAA4AbKCndCAACgbBwLd0IAAGDSbgt3QgAAIDjBC3dCAADgnRMMd0IAAKADZgx3QgAAYGm4DHdCAAAgzwoNd0IAAOA0XQ13QgAAoJqvDXdCAABgAAIOd0IAACBmVA53QgAA4MumDndCAACgMfkOd0IAAGCXSw93QgAAIP2dD3dCAADgYvAPd0IAAKDIQhB3QgAAYC6VEHdCAAAglOcQd0IAAOD5ORF3QgAAoF+MEXdCAABgxd4Rd0IAACArMRJ3QgAA4JCDEndCAACg9tUSd0IAAGBcKBN3QgAAIMJ6E3dCAADgJ80Td0IAAKCNHxR3QgAAYPNxFHdCAAAgWcQUd0IAAOC+FhV3QgAAoCRpFXdCAABgirsVd0IAACDwDRZ3QgAA4FVgFndCAACgu7IWd0IAAGAhBRd3QgAAIIdXF3dCAADg7KkXd0IAAKBS/Bd3QgAAYLhOGHdCAAAgHqEYd0IAAOCD8xh3QgAAoOlFGXdCAABgT5gZd0IAACC16hl3QgAA4Bo9GndCAACggI8ad0IAAGDm4Rp3QgAAIEw0G3dCAADgsYYbd0IAAKAX2Rt3QgAAYH0rHHdCAAAg430cd0IAAOBI0Bx3QgAAoK4iHXdCAABgFHUdd0IAACB6xx13QgAA4N8ZHndCAACgRWwed0IAAGCrvh53QgAAIBERH3dCAADgdmMfd0IAAKDctR93QgAAYEIIIHdCAAAgqFogd0IAAOANrSB3QgAAoHP/IHdCAABg2VEhd0IAACA/pCF3Qg==\",\"dtype\":\"float64\",\"shape\":[107]},\"top\":{\"__ndarray__\":\"AAAAAAAAAAAAAAAAAAAAAAAAAAAAAAAAAAAAAAAAAAAAAAAAAAAAAAAAAAAAAAAAAAAAAAAAAAAAAAAAAAAAAAAAAAAAAAAAAAAAAAAAAAAAAAAAAAAAAAAAAAAAAAAAAAAAAAAAAAAAAAAAAAAAAAAAAAAAAAAAAAAAAAAAAAAAAAAAAAAAAAAAAAAAAAAAAAAAAAAAAAAAAAAAAAAAAAAAAAAAAAAAAAAAAAAAAAAAAAAAAAAAAAAAAAAAAAAAAAAAAAAAAAAAAAAAAAAAAAAAAAAAAAAAAAAAAAAAAAAAAAAAAAAAAAAAAAAAAAAAAAAAAAAAAAAAAAAAAAAAAAAAAAAAAAAAAAAAAAAAAAAAAAAAAAAAAAAAAAAAAAAAAAAAAAAAAAAAAAAAAAAAAAAAAAAAAAAAAAAAAAAAAAAAAAAAAAAAAAAAAAAAAAAAAAAAAAAAAAAAAAAAAAAAAAAAAAAAAAAAAAAAAAAAAAAAAAAAAAAAAAAAAAAAAAAAAAAAAAAA8D8AAAAAAADwPwAAAAAAAPA/AAAAAAAA8D8AAAAAAAAAQAAAAAAAAAhAAAAAAAAACEAAAAAAAAAQQAAAAAAAABxAAAAAAAAAJEAAAAAAAAAoQAAAAAAAACxAAAAAAAAAMkAAAAAAAAA5QAAAAAAAAD9AAAAAAAAAQkAAAAAAAIBFQAAAAAAAgEhAAAAAAAAAS0AAAAAAAIBRQAAAAAAAQFRAAAAAAADAVUAAAAAAAABaQAAAAAAAQF9AAAAAAABAYkAAAAAAAIBjQAAAAAAAgGVAAAAAAABAaEAAAAAAAIBrQAAAAAAAwG5AAAAAAABQcEAAAAAAANBxQAAAAAAAoHNAAAAAAAAAdUAAAAAAAGB3QAAAAAAAIHlAAAAAAADwekAAAAAAADB9QAAAAAAAcH9AAAAAAADwgEAAAAAAAPCBQAAAAAAA0IJAAAAAAABohEAAAAAAADCGQAAAAAAAsIdAAAAAAAAgiUAAAAAAANCKQAAAAAAAKIxAAAAAAAC4jUAAAAAAAOiOQAAAAAAAyI9AAAAAAABUkEAAAAAAAOiQQAAAAAAAbJFAAAAAAADYkUAAAAAAAESSQAAAAAAAnJJAAAAAAAC0kkAAAAAAALSSQA==\",\"dtype\":\"float64\",\"shape\":[107]}},\"selected\":{\"id\":\"13967\"},\"selection_policy\":{\"id\":\"13966\"}},\"id\":\"13397\",\"type\":\"ColumnDataSource\"},{\"attributes\":{\"source\":{\"id\":\"13392\"}},\"id\":\"13396\",\"type\":\"CDSView\"},{\"attributes\":{},\"id\":\"13965\",\"type\":\"Selection\"},{\"attributes\":{},\"id\":\"13966\",\"type\":\"UnionRenderers\"},{\"attributes\":{},\"id\":\"13383\",\"type\":\"HelpTool\"},{\"attributes\":{},\"id\":\"13366\",\"type\":\"LinearScale\"},{\"attributes\":{\"bottom\":{\"value\":1},\"fill_color\":{\"value\":\"red\"},\"left\":{\"field\":\"left\"},\"line_color\":{\"value\":\"red\"},\"right\":{\"field\":\"right\"},\"top\":{\"field\":\"top\"}},\"id\":\"13398\",\"type\":\"Quad\"},{\"attributes\":{},\"id\":\"13950\",\"type\":\"BasicTickFormatter\"},{\"attributes\":{},\"id\":\"13375\",\"type\":\"BasicTicker\"},{\"attributes\":{\"base\":60,\"mantissas\":[1,2,5,10,15,20,30],\"max_interval\":1800000.0,\"min_interval\":1000.0,\"num_minor_ticks\":0},\"id\":\"13952\",\"type\":\"AdaptiveTicker\"},{\"attributes\":{},\"id\":\"13378\",\"type\":\"PanTool\"},{\"attributes\":{\"bottom_units\":\"screen\",\"fill_alpha\":0.5,\"fill_color\":\"lightgrey\",\"left_units\":\"screen\",\"level\":\"overlay\",\"line_alpha\":1.0,\"line_color\":\"black\",\"line_dash\":[4,4],\"line_width\":2,\"render_mode\":\"css\",\"right_units\":\"screen\",\"top_units\":\"screen\"},\"id\":\"13384\",\"type\":\"BoxAnnotation\"},{\"attributes\":{},\"id\":\"13368\",\"type\":\"LinearScale\"},{\"attributes\":{\"data\":{\"left\":{\"__ndarray__\":\"AABA9Tv/dkIAAABbjv92QgAAwMDg/3ZCAACAJjMAd0IAAECMhQB3QgAAAPLXAHdCAADAVyoBd0IAAIC9fAF3QgAAQCPPAXdCAAAAiSECd0IAAMDucwJ3QgAAgFTGAndCAABAuhgDd0IAAAAgawN3QgAAwIW9A3dCAACA6w8Ed0IAAEBRYgR3QgAAALe0BHdCAADAHAcFd0IAAICCWQV3QgAAQOirBXdCAAAATv4Fd0IAAMCzUAZ3QgAAgBmjBndCAABAf/UGd0IAAADlRwd3QgAAwEqaB3dCAACAsOwHd0IAAEAWPwh3QgAAAHyRCHdCAADA4eMId0IAAIBHNgl3QgAAQK2ICXdCAAAAE9sJd0IAAMB4LQp3QgAAgN5/CndCAABARNIKd0IAAACqJAt3QgAAwA93C3dCAACAdckLd0IAAEDbGwx3QgAAAEFuDHdCAADApsAMd0IAAIAMEw13QgAAQHJlDXdCAAAA2LcNd0IAAMA9Cg53QgAAgKNcDndCAABACa8Od0IAAABvAQ93QgAAwNRTD3dCAACAOqYPd0IAAECg+A93QgAAAAZLEHdCAADAa50Qd0IAAIDR7xB3QgAAQDdCEXdCAAAAnZQRd0IAAMAC5xF3QgAAgGg5EndCAABAzosSd0IAAAA03hJ3QgAAwJkwE3dCAACA/4ITd0IAAEBl1RN3QgAAAMsnFHdCAADAMHoUd0IAAICWzBR3QgAAQPweFXdCAAAAYnEVd0IAAMDHwxV3QgAAgC0WFndCAABAk2gWd0IAAAD5uhZ3QgAAwF4NF3dCAACAxF8Xd0IAAEAqshd3QgAAAJAEGHdCAADA9VYYd0IAAIBbqRh3QgAAQMH7GHdCAAAAJ04Zd0IAAMCMoBl3QgAAgPLyGXdCAABAWEUad0IAAAC+lxp3QgAAwCPqGndCAACAiTwbd0IAAEDvjht3QgAAAFXhG3dCAADAujMcd0IAAIAghhx3QgAAQIbYHHdCAAAA7Codd0IAAMBRfR13QgAAgLfPHXdCAABAHSIed0IAAACDdB53QgAAwOjGHndCAACAThkfd0IAAEC0ax93QgAAABq+H3dCAADAfxAgd0IAAIDlYiB3QgAAQEu1IHdCAAAAsQchd0IAAMAWWiF3Qg==\",\"dtype\":\"float64\",\"shape\":[107]},\"right\":{\"__ndarray__\":\"AACgHYb/dkIAAGCD2P92QgAAIOkqAHdCAADgTn0Ad0IAAKC0zwB3QgAAYBoiAXdCAAAggHQBd0IAAODlxgF3QgAAoEsZAndCAABgsWsCd0IAACAXvgJ3QgAA4HwQA3dCAACg4mIDd0IAAGBItQN3QgAAIK4HBHdCAADgE1oEd0IAAKB5rAR3QgAAYN/+BHdCAAAgRVEFd0IAAOCqowV3QgAAoBD2BXdCAABgdkgGd0IAACDcmgZ3QgAA4EHtBndCAACgpz8Hd0IAAGANkgd3QgAAIHPkB3dCAADg2DYId0IAAKA+iQh3QgAAYKTbCHdCAAAgCi4Jd0IAAOBvgAl3QgAAoNXSCXdCAABgOyUKd0IAACChdwp3QgAA4AbKCndCAACgbBwLd0IAAGDSbgt3QgAAIDjBC3dCAADgnRMMd0IAAKADZgx3QgAAYGm4DHdCAAAgzwoNd0IAAOA0XQ13QgAAoJqvDXdCAABgAAIOd0IAACBmVA53QgAA4MumDndCAACgMfkOd0IAAGCXSw93QgAAIP2dD3dCAADgYvAPd0IAAKDIQhB3QgAAYC6VEHdCAAAglOcQd0IAAOD5ORF3QgAAoF+MEXdCAABgxd4Rd0IAACArMRJ3QgAA4JCDEndCAACg9tUSd0IAAGBcKBN3QgAAIMJ6E3dCAADgJ80Td0IAAKCNHxR3QgAAYPNxFHdCAAAgWcQUd0IAAOC+FhV3QgAAoCRpFXdCAABgirsVd0IAACDwDRZ3QgAA4FVgFndCAACgu7IWd0IAAGAhBRd3QgAAIIdXF3dCAADg7KkXd0IAAKBS/Bd3QgAAYLhOGHdCAAAgHqEYd0IAAOCD8xh3QgAAoOlFGXdCAABgT5gZd0IAACC16hl3QgAA4Bo9GndCAACggI8ad0IAAGDm4Rp3QgAAIEw0G3dCAADgsYYbd0IAAKAX2Rt3QgAAYH0rHHdCAAAg430cd0IAAOBI0Bx3QgAAoK4iHXdCAABgFHUdd0IAACB6xx13QgAA4N8ZHndCAACgRWwed0IAAGCrvh53QgAAIBERH3dCAADgdmMfd0IAAKDctR93QgAAYEIIIHdCAAAgqFogd0IAAOANrSB3QgAAoHP/IHdCAABg2VEhd0IAACA/pCF3Qg==\",\"dtype\":\"float64\",\"shape\":[107]},\"top\":{\"__ndarray__\":\"AAAAAAAA8D8AAAAAAADwPwAAAAAAAPA/AAAAAAAA8D8AAAAAAADwPwAAAAAAAPA/AAAAAAAA8D8AAAAAAADwPwAAAAAAAPA/AAAAAAAA8D8AAAAAAADwPwAAAAAAAPA/AAAAAAAA8D8AAAAAAADwPwAAAAAAAPA/AAAAAAAA8D8AAAAAAADwPwAAAAAAAPA/AAAAAAAAAEAAAAAAAAAAQAAAAAAAAABAAAAAAAAAAEAAAAAAAAAAQAAAAAAAAAhAAAAAAAAAEEAAAAAAAAAQQAAAAAAAABBAAAAAAAAAFEAAAAAAAAAYQAAAAAAAACBAAAAAAAAAJEAAAAAAAAAoQAAAAAAAADBAAAAAAAAANEAAAAAAAAA5QAAAAAAAADlAAAAAAAAAPkAAAAAAAIBDQAAAAAAAAEdAAAAAAAAAUUAAAAAAAIBXQAAAAAAAQF1AAAAAAABAYUAAAAAAAMBlQAAAAAAAgGpAAAAAAABAb0AAAAAAAGByQAAAAAAAMHRAAAAAAAAQdkAAAAAAAFB4QAAAAAAA0HtAAAAAAACQfUAAAAAAAIB/QAAAAAAAgIFAAAAAAAD4gkAAAAAAAMiEQAAAAAAAoIdAAAAAAADgiUAAAAAAAACMQAAAAAAAAI5AAAAAAADIkEAAAAAAABCSQAAAAAAAWJRAAAAAAABolkAAAAAAAFyYQAAAAAAAiJpAAAAAAAC0nEAAAAAAAIifQAAAAAAABqFAAAAAAAByokAAAAAAABqkQAAAAAAA0KZAAAAAAACaqEAAAAAAAIaqQAAAAAAACK1AAAAAAABqr0AAAAAAAEOxQAAAAAAAmLJAAAAAAAAwtEAAAAAAAOq1QAAAAAAAeLdAAAAAAAAVukAAAAAAAJ27QAAAAAAAJ71AAAAAAADMvkAAAAAAgF7AQAAAAACAVMFAAAAAAIAmwkAAAAAAAD3DQAAAAAAAIMRAAAAAAADMxEAAAAAAAMfFQAAAAACAEcdAAAAAAIDIx0AAAAAAgILIQAAAAAAAaclAAAAAAIAYykAAAAAAgLTKQAAAAACASstAAAAAAIDgy0AAAAAAgE/MQAAAAAAApMxAAAAAAADdzEAAAAAAAP3MQAAAAAAAD81AAAAAAAAPzUAAAAAAAA/NQA==\",\"dtype\":\"float64\",\"shape\":[107]}},\"selected\":{\"id\":\"13965\"},\"selection_policy\":{\"id\":\"13964\"}},\"id\":\"13392\",\"type\":\"ColumnDataSource\"}],\"root_ids\":[\"13361\"]},\"title\":\"Bokeh Application\",\"version\":\"2.0.1\"}};\n",
       "  var render_items = [{\"docid\":\"15f38be6-3618-402f-9171-f59dc66fdefa\",\"root_ids\":[\"13361\"],\"roots\":{\"13361\":\"a76723c1-e841-4635-b46e-0144f41158aa\"}}];\n",
       "  root.Bokeh.embed.embed_items_notebook(docs_json, render_items);\n",
       "\n",
       "  }\n",
       "  if (root.Bokeh !== undefined) {\n",
       "    embed_document(root);\n",
       "  } else {\n",
       "    var attempts = 0;\n",
       "    var timer = setInterval(function(root) {\n",
       "      if (root.Bokeh !== undefined) {\n",
       "        clearInterval(timer);\n",
       "        embed_document(root);\n",
       "      } else {\n",
       "        attempts++;\n",
       "        if (attempts > 100) {\n",
       "          clearInterval(timer);\n",
       "          console.log(\"Bokeh: ERROR: Unable to run BokehJS code because BokehJS library is missing\");\n",
       "        }\n",
       "      }\n",
       "    }, 10, root)\n",
       "  }\n",
       "})(window);"
      ],
      "application/vnd.bokehjs_exec.v0+json": ""
     },
     "metadata": {
      "application/vnd.bokehjs_exec.v0+json": {
       "id": "13361"
      }
     },
     "output_type": "display_data"
    }
   ],
   "source": [
    "bpl.show(s)"
   ]
  },
  {
   "cell_type": "markdown",
   "metadata": {},
   "source": [
    "Definición de función para evaluar el modelo en función de R_0 y calculando el error a los datos reales. esto es la función que usaremos para ajustar R_0 a los datos. Se puede seguir una estrategia similar si se desean ajustar más parámetros"
   ]
  },
  {
   "cell_type": "code",
   "execution_count": 492,
   "metadata": {},
   "outputs": [],
   "source": [
    "def evaluador(R_0, casos, N, dias_prediccion=0,ajustar_decesos=True,regresar_solucion=False):\n",
    "    inicio = casos.index[0]\n",
    "    n_infected = casos[\"Confirmados\"].fillna(0)[inicio]\n",
    "    max_days = len(casos) + dias_prediccion\n",
    "    tiempos = pd.date_range(start=inicio, periods=max_days).values\n",
    "    serie_tiempos = pd.Series(tiempos)\n",
    "    \n",
    "    initial_state = [(N - n_infected)/ N, 0, n_infected / N, 0, 0, 0, 0, 0, 0]\n",
    "\n",
    "    t_inf=2.9\n",
    "    t_inc=5.2\n",
    "    t_rh=12\n",
    "    t_rl=14\n",
    "    t_hosp=4\n",
    "    t_icu=1\n",
    "    t_ricu = 7\n",
    "    t_m=8\n",
    "    p_m=.65\n",
    "    p_grave=0.138\n",
    "    p_icu=0.05\n",
    "    \n",
    "    args = (R_0, t_inf, t_inc, t_rh, t_rl, t_hosp, t_icu, t_ricu, t_m, p_m, p_grave, p_icu)\n",
    "    \n",
    "    sol = solve_ivp(CDMX_model, [0, max_days], initial_state, args=args, t_eval=np.arange(max_days))\n",
    "    \n",
    "    labels = [\"Susceptibles\",\"Expuestos\",\"Infectados\",\"Leves\",\"Graves\",\"Hospitalizados\",\"ICUs\",\"Recuperados\",\"Defunciones\"]\n",
    "    \n",
    "    solucion = pd.DataFrame(sol.y.T*N,columns=labels,index=tiempos)\n",
    "    solucion[\"Defunciones\"] = np.clip(solucion[\"Defunciones\"],0,np.inf)\n",
    "    solucion[\"Confirmados_acumulados\"] = np.clip(solucion[[\"Infectados\",\"Leves\",\"Graves\",\"Hospitalizados\",\"ICUs\",\"Recuperados\",\"Defunciones\"]].sum(axis=1),0,np.inf)\n",
    "    \n",
    "    pesos = pd.Series(1/((casos.index-casos.index[-1]).days*-1+1),index=casos.index)\n",
    "    \n",
    "    error_confirmados = mean_squared_log_error(casos[\"Confirmados_acumulados\"],solucion[\"Confirmados_acumulados\"][casos.index].fillna(0),pesos)\n",
    "    error_decesos = mean_squared_log_error(casos[\"Decesos_acumulados\"],solucion[\"Defunciones\"][casos.index].fillna(0),pesos)\n",
    "    \n",
    "    if ajustar_decesos:\n",
    "        error_final = np.mean([error_confirmados, error_decesos])\n",
    "    else:\n",
    "        error_final = error_confirmados\n",
    "    \n",
    "    if regresar_solucion:\n",
    "        return error_final, solucion\n",
    "    else:\n",
    "        return error_final"
   ]
  },
  {
   "cell_type": "markdown",
   "metadata": {},
   "source": [
    "Ejecución del modelo con la R_0 que reportan en CDMX"
   ]
  },
  {
   "cell_type": "code",
   "execution_count": 518,
   "metadata": {},
   "outputs": [],
   "source": [
    "fecini = pd.Timestamp(\"2020-03-01\")\n",
    "fecfin = pd.Timestamp(\"2020-03-22\")\n",
    "dias_pred = 10\n",
    "fecpred = fecfin + pd.Timedelta(str(dias_pred) + \" days\")"
   ]
  },
  {
   "cell_type": "code",
   "execution_count": 519,
   "metadata": {},
   "outputs": [],
   "source": [
    "casos_filt = casos.loc[fecini:fecfin,:]\n",
    "casos_pred = casos.loc[fecfin:fecpred,:]"
   ]
  },
  {
   "cell_type": "code",
   "execution_count": 520,
   "metadata": {},
   "outputs": [],
   "source": [
    "error, solucion = evaluador(2.83,casos_filt,9000000,dias_pred,True,True)"
   ]
  },
  {
   "cell_type": "code",
   "execution_count": 521,
   "metadata": {},
   "outputs": [
    {
     "data": {
      "text/html": [
       "<div>\n",
       "<style scoped>\n",
       "    .dataframe tbody tr th:only-of-type {\n",
       "        vertical-align: middle;\n",
       "    }\n",
       "\n",
       "    .dataframe tbody tr th {\n",
       "        vertical-align: top;\n",
       "    }\n",
       "\n",
       "    .dataframe thead th {\n",
       "        text-align: right;\n",
       "    }\n",
       "</style>\n",
       "<table border=\"1\" class=\"dataframe\">\n",
       "  <thead>\n",
       "    <tr style=\"text-align: right;\">\n",
       "      <th></th>\n",
       "      <th>Susceptibles</th>\n",
       "      <th>Expuestos</th>\n",
       "      <th>Infectados</th>\n",
       "      <th>Leves</th>\n",
       "      <th>Graves</th>\n",
       "      <th>Hospitalizados</th>\n",
       "      <th>ICUs</th>\n",
       "      <th>Recuperados</th>\n",
       "      <th>Defunciones</th>\n",
       "      <th>Confirmados_acumulados</th>\n",
       "    </tr>\n",
       "  </thead>\n",
       "  <tbody>\n",
       "    <tr>\n",
       "      <th>2020-03-01</th>\n",
       "      <td>8.999998e+06</td>\n",
       "      <td>0.000000</td>\n",
       "      <td>2.000000</td>\n",
       "      <td>0.000000</td>\n",
       "      <td>0.000000</td>\n",
       "      <td>0.000000</td>\n",
       "      <td>0.000000</td>\n",
       "      <td>0.000000</td>\n",
       "      <td>0.0</td>\n",
       "      <td>2.000000</td>\n",
       "    </tr>\n",
       "    <tr>\n",
       "      <th>2020-03-02</th>\n",
       "      <td>8.999996e+06</td>\n",
       "      <td>2.170905</td>\n",
       "      <td>1.225554</td>\n",
       "      <td>0.654654</td>\n",
       "      <td>0.107565</td>\n",
       "      <td>-0.005394</td>\n",
       "      <td>0.001439</td>\n",
       "      <td>0.004971</td>\n",
       "      <td>0.0</td>\n",
       "      <td>1.988789</td>\n",
       "    </tr>\n",
       "    <tr>\n",
       "      <th>2020-03-03</th>\n",
       "      <td>8.999990e+06</td>\n",
       "      <td>8.891944</td>\n",
       "      <td>-1.885448</td>\n",
       "      <td>2.446322</td>\n",
       "      <td>0.465192</td>\n",
       "      <td>-0.117672</td>\n",
       "      <td>0.013848</td>\n",
       "      <td>-0.070494</td>\n",
       "      <td>0.0</td>\n",
       "      <td>0.851749</td>\n",
       "    </tr>\n",
       "  </tbody>\n",
       "</table>\n",
       "</div>"
      ],
      "text/plain": [
       "            Susceptibles  Expuestos  Infectados     Leves    Graves  \\\n",
       "2020-03-01  8.999998e+06   0.000000    2.000000  0.000000  0.000000   \n",
       "2020-03-02  8.999996e+06   2.170905    1.225554  0.654654  0.107565   \n",
       "2020-03-03  8.999990e+06   8.891944   -1.885448  2.446322  0.465192   \n",
       "\n",
       "            Hospitalizados      ICUs  Recuperados  Defunciones  \\\n",
       "2020-03-01        0.000000  0.000000     0.000000          0.0   \n",
       "2020-03-02       -0.005394  0.001439     0.004971          0.0   \n",
       "2020-03-03       -0.117672  0.013848    -0.070494          0.0   \n",
       "\n",
       "            Confirmados_acumulados  \n",
       "2020-03-01                2.000000  \n",
       "2020-03-02                1.988789  \n",
       "2020-03-03                0.851749  "
      ]
     },
     "execution_count": 521,
     "metadata": {},
     "output_type": "execute_result"
    }
   ],
   "source": [
    "solucion[:3]"
   ]
  },
  {
   "cell_type": "markdown",
   "metadata": {},
   "source": [
    "Graficado de la solución, se puede apreciar que el valor de R_0 no refleja bien el crecimiento que tienen los datos reales"
   ]
  },
  {
   "cell_type": "code",
   "execution_count": 522,
   "metadata": {},
   "outputs": [],
   "source": [
    "p = bpl.figure(x_axis_type=\"datetime\",plot_width=800,plot_height=600,title=\"Modelo CDMX\")"
   ]
  },
  {
   "cell_type": "code",
   "execution_count": 523,
   "metadata": {},
   "outputs": [],
   "source": [
    "p.line(x=casos_filt.index,y=casos_filt[\"Confirmados_acumulados\"],color=\"#0B9A53\",line_width=3,legend_label=\"Casos a ajustar\",line_dash=\"dashed\")\n",
    "p.line(x=casos_pred.index,y=casos_pred[\"Confirmados_acumulados\"],color=\"#3999E4\",line_width=3,legend_label=\"Casos a predecir\",line_dash=\"dotted\")\n",
    "for label in [\"Confirmados_acumulados\"]:\n",
    "    p.line(x=solucion.index,y=solucion[label],color=\"#9B0E63\",line_width=3,legend_label=\"Casos confirmados, modelo R_0 = \" + str(R_0))"
   ]
  },
  {
   "cell_type": "code",
   "execution_count": 524,
   "metadata": {},
   "outputs": [],
   "source": [
    "p.xaxis.axis_label = 'Fecha'\n",
    "p.yaxis.axis_label = 'Miles de personas'\n",
    "p.legend.location = \"top_left\""
   ]
  },
  {
   "cell_type": "code",
   "execution_count": 525,
   "metadata": {},
   "outputs": [
    {
     "data": {
      "text/html": [
       "\n",
       "\n",
       "\n",
       "\n",
       "\n",
       "\n",
       "  <div class=\"bk-root\" id=\"fe211bf6-543a-4ac4-b856-fb2c73d5b48a\" data-root-id=\"69345\"></div>\n"
      ]
     },
     "metadata": {},
     "output_type": "display_data"
    },
    {
     "data": {
      "application/javascript": [
       "(function(root) {\n",
       "  function embed_document(root) {\n",
       "    \n",
       "  var docs_json = {\"aab65e10-27eb-4500-99f7-331fd8551b75\":{\"roots\":{\"references\":[{\"attributes\":{\"below\":[{\"id\":\"69356\"}],\"center\":[{\"id\":\"69359\"},{\"id\":\"69363\"},{\"id\":\"69401\"}],\"left\":[{\"id\":\"69360\"}],\"plot_width\":800,\"renderers\":[{\"id\":\"69381\"},{\"id\":\"69406\"},{\"id\":\"69432\"}],\"title\":{\"id\":\"69346\"},\"toolbar\":{\"id\":\"69371\"},\"x_range\":{\"id\":\"69348\"},\"x_scale\":{\"id\":\"69352\"},\"y_range\":{\"id\":\"69350\"},\"y_scale\":{\"id\":\"69354\"}},\"id\":\"69345\",\"subtype\":\"Figure\",\"type\":\"Plot\"},{\"attributes\":{\"bottom_units\":\"screen\",\"fill_alpha\":0.5,\"fill_color\":\"lightgrey\",\"left_units\":\"screen\",\"level\":\"overlay\",\"line_alpha\":1.0,\"line_color\":\"black\",\"line_dash\":[4,4],\"line_width\":2,\"render_mode\":\"css\",\"right_units\":\"screen\",\"top_units\":\"screen\"},\"id\":\"69370\",\"type\":\"BoxAnnotation\"},{\"attributes\":{\"axis_label\":\"Fecha\",\"formatter\":{\"id\":\"69385\"},\"ticker\":{\"id\":\"69357\"}},\"id\":\"69356\",\"type\":\"DatetimeAxis\"},{\"attributes\":{\"days\":[1,2,3,4,5,6,7,8,9,10,11,12,13,14,15,16,17,18,19,20,21,22,23,24,25,26,27,28,29,30,31]},\"id\":\"69391\",\"type\":\"DaysTicker\"},{\"attributes\":{\"label\":{\"value\":\"Casos a predecir\"},\"renderers\":[{\"id\":\"69406\"}]},\"id\":\"69428\",\"type\":\"LegendItem\"},{\"attributes\":{\"source\":{\"id\":\"69378\"}},\"id\":\"69382\",\"type\":\"CDSView\"},{\"attributes\":{\"source\":{\"id\":\"69429\"}},\"id\":\"69433\",\"type\":\"CDSView\"},{\"attributes\":{\"mantissas\":[1,2,5],\"max_interval\":500.0,\"num_minor_ticks\":0},\"id\":\"69388\",\"type\":\"AdaptiveTicker\"},{\"attributes\":{\"data_source\":{\"id\":\"69403\"},\"glyph\":{\"id\":\"69404\"},\"hover_glyph\":null,\"muted_glyph\":null,\"nonselection_glyph\":{\"id\":\"69405\"},\"selection_glyph\":null,\"view\":{\"id\":\"69407\"}},\"id\":\"69406\",\"type\":\"GlyphRenderer\"},{\"attributes\":{\"line_color\":\"#0B9A53\",\"line_dash\":[6],\"line_width\":3,\"x\":{\"field\":\"x\"},\"y\":{\"field\":\"y\"}},\"id\":\"69379\",\"type\":\"Line\"},{\"attributes\":{\"days\":[1,15]},\"id\":\"69394\",\"type\":\"DaysTicker\"},{\"attributes\":{},\"id\":\"69454\",\"type\":\"UnionRenderers\"},{\"attributes\":{},\"id\":\"70923\",\"type\":\"UnionRenderers\"},{\"attributes\":{},\"id\":\"69350\",\"type\":\"DataRange1d\"},{\"attributes\":{\"data\":{\"x\":{\"__ndarray__\":\"AACARzYJd0IAAECtiAl3QgAAABPbCXdCAADAeC0Kd0IAAIDefwp3QgAAQETSCndCAAAAqiQLd0IAAMAPdwt3QgAAgHXJC3dCAABA2xsMd0IAAABBbgx3QgAAwKbADHdCAACADBMNd0IAAEByZQ13QgAAANi3DXdCAADAPQoOd0IAAICjXA53QgAAQAmvDndCAAAAbwEPd0IAAMDUUw93QgAAgDqmD3dCAABAoPgPd0I=\",\"dtype\":\"float64\",\"shape\":[22]},\"y\":{\"__ndarray__\":\"AAAAAAAAKEAAAAAAAAAwQAAAAAAAADRAAAAAAAAAOUAAAAAAAAA5QAAAAAAAAD5AAAAAAACAQ0AAAAAAAABHQAAAAAAAAFFAAAAAAACAV0AAAAAAAEBdQAAAAAAAQGFAAAAAAADAZUAAAAAAAIBqQAAAAAAAQG9AAAAAAABgckAAAAAAADB0QAAAAAAAEHZAAAAAAABQeEAAAAAAANB7QAAAAAAAkH1AAAAAAACAf0A=\",\"dtype\":\"float64\",\"shape\":[22]}},\"selected\":{\"id\":\"69427\"},\"selection_policy\":{\"id\":\"69426\"}},\"id\":\"69378\",\"type\":\"ColumnDataSource\"},{\"attributes\":{\"line_alpha\":0.1,\"line_color\":\"#9B0E63\",\"line_width\":3,\"x\":{\"field\":\"x\"},\"y\":{\"field\":\"y\"}},\"id\":\"69431\",\"type\":\"Line\"},{\"attributes\":{\"days\":[1,8,15,22]},\"id\":\"69393\",\"type\":\"DaysTicker\"},{\"attributes\":{\"label\":{\"value\":\"Casos a ajustar\"},\"renderers\":[{\"id\":\"69381\"}]},\"id\":\"69402\",\"type\":\"LegendItem\"},{\"attributes\":{},\"id\":\"69455\",\"type\":\"Selection\"},{\"attributes\":{},\"id\":\"69354\",\"type\":\"LinearScale\"},{\"attributes\":{\"months\":[0,2,4,6,8,10]},\"id\":\"69396\",\"type\":\"MonthsTicker\"},{\"attributes\":{\"months\":[0,4,8]},\"id\":\"69397\",\"type\":\"MonthsTicker\"},{\"attributes\":{},\"id\":\"70924\",\"type\":\"Selection\"},{\"attributes\":{\"data_source\":{\"id\":\"69378\"},\"glyph\":{\"id\":\"69379\"},\"hover_glyph\":null,\"muted_glyph\":null,\"nonselection_glyph\":{\"id\":\"69380\"},\"selection_glyph\":null,\"view\":{\"id\":\"69382\"}},\"id\":\"69381\",\"type\":\"GlyphRenderer\"},{\"attributes\":{\"label\":{\"value\":\"Casos confirmados, modelo R_0 = 2.83\"},\"renderers\":[{\"id\":\"69432\"}]},\"id\":\"69456\",\"type\":\"LegendItem\"},{\"attributes\":{\"axis\":{\"id\":\"69356\"},\"ticker\":null},\"id\":\"69359\",\"type\":\"Grid\"},{\"attributes\":{\"active_drag\":\"auto\",\"active_inspect\":\"auto\",\"active_multi\":null,\"active_scroll\":\"auto\",\"active_tap\":\"auto\",\"tools\":[{\"id\":\"69364\"},{\"id\":\"69365\"},{\"id\":\"69366\"},{\"id\":\"69367\"},{\"id\":\"69368\"},{\"id\":\"69369\"}]},\"id\":\"69371\",\"type\":\"Toolbar\"},{\"attributes\":{\"line_alpha\":0.1,\"line_color\":\"#3999E4\",\"line_dash\":[2,4],\"line_width\":3,\"x\":{\"field\":\"x\"},\"y\":{\"field\":\"y\"}},\"id\":\"69405\",\"type\":\"Line\"},{\"attributes\":{\"data\":{\"x\":{\"__ndarray__\":\"AACARzYJd0IAAECtiAl3QgAAABPbCXdCAADAeC0Kd0IAAIDefwp3QgAAQETSCndCAAAAqiQLd0IAAMAPdwt3QgAAgHXJC3dCAABA2xsMd0IAAABBbgx3QgAAwKbADHdCAACADBMNd0IAAEByZQ13QgAAANi3DXdCAADAPQoOd0IAAICjXA53QgAAQAmvDndCAAAAbwEPd0IAAMDUUw93QgAAgDqmD3dCAABAoPgPd0IAAAAGSxB3QgAAwGudEHdCAACA0e8Qd0IAAEA3QhF3QgAAAJ2UEXdCAADAAucRd0IAAIBoORJ3QgAAQM6LEndCAAAANN4Sd0IAAMCZMBN3Qg==\",\"dtype\":\"float64\",\"shape\":[32]},\"y\":{\"__ndarray__\":\"AAAAAAAAAEBS+EFgFNL/P2it2ISHQes/6IrkaAihzD/3q5Yq2+v2P+HmEnvmURJASuNBC14UIUCfTp6UPeglQLFja2h+dSNAMcbsWQNNIkC/238A6S8oQISDtu8ddjFAeUAbXvJ3NEDanOzGPpM1QNPZ4ghCMTlA/dol5AsGQEBzbyAH6+NDQNe9W/QgYUZA4yNik2hZSUB4vSXbEaNOQCcz11e2LVNADhaSfSt1V0C4FtxlywJbQFgDL9vMNl9AtqS970CoYkAHRyvum6xmQBtwhVqwF2tAdh8g/Pebb0C9tiEUyJ9yQE7wT96xQnZAFY4fezCvekCUmoGlOaB/QA==\",\"dtype\":\"float64\",\"shape\":[32]}},\"selected\":{\"id\":\"70924\"},\"selection_policy\":{\"id\":\"70923\"}},\"id\":\"69429\",\"type\":\"ColumnDataSource\"},{\"attributes\":{\"data_source\":{\"id\":\"69429\"},\"glyph\":{\"id\":\"69430\"},\"hover_glyph\":null,\"muted_glyph\":null,\"nonselection_glyph\":{\"id\":\"69431\"},\"selection_glyph\":null,\"view\":{\"id\":\"69433\"}},\"id\":\"69432\",\"type\":\"GlyphRenderer\"},{\"attributes\":{},\"id\":\"69348\",\"type\":\"DataRange1d\"},{\"attributes\":{},\"id\":\"69387\",\"type\":\"BasicTickFormatter\"},{\"attributes\":{\"axis_label\":\"Miles de personas\",\"formatter\":{\"id\":\"69387\"},\"ticker\":{\"id\":\"69361\"}},\"id\":\"69360\",\"type\":\"LinearAxis\"},{\"attributes\":{},\"id\":\"69364\",\"type\":\"PanTool\"},{\"attributes\":{\"source\":{\"id\":\"69403\"}},\"id\":\"69407\",\"type\":\"CDSView\"},{\"attributes\":{\"data\":{\"x\":{\"__ndarray__\":\"AABAoPgPd0IAAAAGSxB3QgAAwGudEHdCAACA0e8Qd0IAAEA3QhF3QgAAAJ2UEXdCAADAAucRd0IAAIBoORJ3QgAAQM6LEndCAAAANN4Sd0IAAMCZMBN3Qg==\",\"dtype\":\"float64\",\"shape\":[11]},\"y\":{\"__ndarray__\":\"AAAAAACAf0AAAAAAAICBQAAAAAAA+IJAAAAAAADIhEAAAAAAAKCHQAAAAAAA4IlAAAAAAAAAjEAAAAAAAACOQAAAAAAAyJBAAAAAAAAQkkAAAAAAAFiUQA==\",\"dtype\":\"float64\",\"shape\":[11]}},\"selected\":{\"id\":\"69455\"},\"selection_policy\":{\"id\":\"69454\"}},\"id\":\"69403\",\"type\":\"ColumnDataSource\"},{\"attributes\":{\"base\":24,\"mantissas\":[1,2,4,6,8,12],\"max_interval\":43200000.0,\"min_interval\":3600000.0,\"num_minor_ticks\":0},\"id\":\"69390\",\"type\":\"AdaptiveTicker\"},{\"attributes\":{\"months\":[0,1,2,3,4,5,6,7,8,9,10,11]},\"id\":\"69395\",\"type\":\"MonthsTicker\"},{\"attributes\":{},\"id\":\"69426\",\"type\":\"UnionRenderers\"},{\"attributes\":{\"overlay\":{\"id\":\"69370\"}},\"id\":\"69366\",\"type\":\"BoxZoomTool\"},{\"attributes\":{},\"id\":\"69361\",\"type\":\"BasicTicker\"},{\"attributes\":{},\"id\":\"69385\",\"type\":\"DatetimeTickFormatter\"},{\"attributes\":{},\"id\":\"69367\",\"type\":\"SaveTool\"},{\"attributes\":{},\"id\":\"69399\",\"type\":\"YearsTicker\"},{\"attributes\":{},\"id\":\"69427\",\"type\":\"Selection\"},{\"attributes\":{},\"id\":\"69365\",\"type\":\"WheelZoomTool\"},{\"attributes\":{},\"id\":\"69369\",\"type\":\"HelpTool\"},{\"attributes\":{\"axis\":{\"id\":\"69360\"},\"dimension\":1,\"ticker\":null},\"id\":\"69363\",\"type\":\"Grid\"},{\"attributes\":{\"base\":60,\"mantissas\":[1,2,5,10,15,20,30],\"max_interval\":1800000.0,\"min_interval\":1000.0,\"num_minor_ticks\":0},\"id\":\"69389\",\"type\":\"AdaptiveTicker\"},{\"attributes\":{\"days\":[1,4,7,10,13,16,19,22,25,28]},\"id\":\"69392\",\"type\":\"DaysTicker\"},{\"attributes\":{\"months\":[0,6]},\"id\":\"69398\",\"type\":\"MonthsTicker\"},{\"attributes\":{\"text\":\"Modelo CDMX\"},\"id\":\"69346\",\"type\":\"Title\"},{\"attributes\":{},\"id\":\"69368\",\"type\":\"ResetTool\"},{\"attributes\":{\"items\":[{\"id\":\"69402\"},{\"id\":\"69428\"},{\"id\":\"69456\"}],\"location\":\"top_left\"},\"id\":\"69401\",\"type\":\"Legend\"},{\"attributes\":{\"line_alpha\":0.1,\"line_color\":\"#0B9A53\",\"line_dash\":[6],\"line_width\":3,\"x\":{\"field\":\"x\"},\"y\":{\"field\":\"y\"}},\"id\":\"69380\",\"type\":\"Line\"},{\"attributes\":{\"line_color\":\"#9B0E63\",\"line_width\":3,\"x\":{\"field\":\"x\"},\"y\":{\"field\":\"y\"}},\"id\":\"69430\",\"type\":\"Line\"},{\"attributes\":{\"line_color\":\"#3999E4\",\"line_dash\":[2,4],\"line_width\":3,\"x\":{\"field\":\"x\"},\"y\":{\"field\":\"y\"}},\"id\":\"69404\",\"type\":\"Line\"},{\"attributes\":{},\"id\":\"69352\",\"type\":\"LinearScale\"},{\"attributes\":{\"num_minor_ticks\":5,\"tickers\":[{\"id\":\"69388\"},{\"id\":\"69389\"},{\"id\":\"69390\"},{\"id\":\"69391\"},{\"id\":\"69392\"},{\"id\":\"69393\"},{\"id\":\"69394\"},{\"id\":\"69395\"},{\"id\":\"69396\"},{\"id\":\"69397\"},{\"id\":\"69398\"},{\"id\":\"69399\"}]},\"id\":\"69357\",\"type\":\"DatetimeTicker\"}],\"root_ids\":[\"69345\"]},\"title\":\"Bokeh Application\",\"version\":\"2.0.1\"}};\n",
       "  var render_items = [{\"docid\":\"aab65e10-27eb-4500-99f7-331fd8551b75\",\"root_ids\":[\"69345\"],\"roots\":{\"69345\":\"fe211bf6-543a-4ac4-b856-fb2c73d5b48a\"}}];\n",
       "  root.Bokeh.embed.embed_items_notebook(docs_json, render_items);\n",
       "\n",
       "  }\n",
       "  if (root.Bokeh !== undefined) {\n",
       "    embed_document(root);\n",
       "  } else {\n",
       "    var attempts = 0;\n",
       "    var timer = setInterval(function(root) {\n",
       "      if (root.Bokeh !== undefined) {\n",
       "        clearInterval(timer);\n",
       "        embed_document(root);\n",
       "      } else {\n",
       "        attempts++;\n",
       "        if (attempts > 100) {\n",
       "          clearInterval(timer);\n",
       "          console.log(\"Bokeh: ERROR: Unable to run BokehJS code because BokehJS library is missing\");\n",
       "        }\n",
       "      }\n",
       "    }, 10, root)\n",
       "  }\n",
       "})(window);"
      ],
      "application/vnd.bokehjs_exec.v0+json": ""
     },
     "metadata": {
      "application/vnd.bokehjs_exec.v0+json": {
       "id": "69345"
      }
     },
     "output_type": "display_data"
    }
   ],
   "source": [
    "bpl.show(p)"
   ]
  },
  {
   "cell_type": "markdown",
   "metadata": {},
   "source": [
    "Ajuste del modelo para obtener la mejor R_0"
   ]
  },
  {
   "cell_type": "code",
   "execution_count": 526,
   "metadata": {},
   "outputs": [
    {
     "data": {
      "text/plain": [
       "      fun: 0.7679008474975676\n",
       " hess_inv: <1x1 LbfgsInvHessProduct with dtype=float64>\n",
       "      jac: array([-3.55271368e-07])\n",
       "  message: b'CONVERGENCE: NORM_OF_PROJECTED_GRADIENT_<=_PGTOL'\n",
       "     nfev: 12\n",
       "      nit: 5\n",
       "   status: 0\n",
       "  success: True\n",
       "        x: array([4.6019768])"
      ]
     },
     "execution_count": 526,
     "metadata": {},
     "output_type": "execute_result"
    }
   ],
   "source": [
    "ajuste = minimize(evaluador,[2.8],args=(casos_filt,9000000,0,False,False),method='L-BFGS-B')\n",
    "ajuste"
   ]
  },
  {
   "cell_type": "code",
   "execution_count": 528,
   "metadata": {},
   "outputs": [
    {
     "data": {
      "text/plain": [
       "4.601976800552114"
      ]
     },
     "execution_count": 528,
     "metadata": {},
     "output_type": "execute_result"
    }
   ],
   "source": [
    "R_f = ajuste.x[0]\n",
    "R_f"
   ]
  },
  {
   "cell_type": "code",
   "execution_count": 541,
   "metadata": {},
   "outputs": [],
   "source": [
    "error, solucion = evaluador(R_f,casos_filt,9000000,0,False,True)"
   ]
  },
  {
   "cell_type": "code",
   "execution_count": 551,
   "metadata": {},
   "outputs": [
    {
     "data": {
      "text/plain": [
       "0.7679008474975676"
      ]
     },
     "execution_count": 551,
     "metadata": {},
     "output_type": "execute_result"
    }
   ],
   "source": [
    "error"
   ]
  },
  {
   "cell_type": "code",
   "execution_count": 542,
   "metadata": {},
   "outputs": [
    {
     "data": {
      "text/html": [
       "<div>\n",
       "<style scoped>\n",
       "    .dataframe tbody tr th:only-of-type {\n",
       "        vertical-align: middle;\n",
       "    }\n",
       "\n",
       "    .dataframe tbody tr th {\n",
       "        vertical-align: top;\n",
       "    }\n",
       "\n",
       "    .dataframe thead th {\n",
       "        text-align: right;\n",
       "    }\n",
       "</style>\n",
       "<table border=\"1\" class=\"dataframe\">\n",
       "  <thead>\n",
       "    <tr style=\"text-align: right;\">\n",
       "      <th></th>\n",
       "      <th>Susceptibles</th>\n",
       "      <th>Expuestos</th>\n",
       "      <th>Infectados</th>\n",
       "      <th>Leves</th>\n",
       "      <th>Graves</th>\n",
       "      <th>Hospitalizados</th>\n",
       "      <th>ICUs</th>\n",
       "      <th>Recuperados</th>\n",
       "      <th>Defunciones</th>\n",
       "      <th>Confirmados_acumulados</th>\n",
       "    </tr>\n",
       "  </thead>\n",
       "  <tbody>\n",
       "    <tr>\n",
       "      <th>2020-03-01</th>\n",
       "      <td>8.999998e+06</td>\n",
       "      <td>0.000000</td>\n",
       "      <td>2.000000</td>\n",
       "      <td>0.000000</td>\n",
       "      <td>0.000000</td>\n",
       "      <td>0.000000</td>\n",
       "      <td>0.000000</td>\n",
       "      <td>0.000000</td>\n",
       "      <td>0.0</td>\n",
       "      <td>2.000000</td>\n",
       "    </tr>\n",
       "    <tr>\n",
       "      <th>2020-03-02</th>\n",
       "      <td>8.999994e+06</td>\n",
       "      <td>4.429315</td>\n",
       "      <td>0.901643</td>\n",
       "      <td>0.803605</td>\n",
       "      <td>0.136272</td>\n",
       "      <td>-0.012550</td>\n",
       "      <td>0.001750</td>\n",
       "      <td>-0.004160</td>\n",
       "      <td>0.0</td>\n",
       "      <td>1.826558</td>\n",
       "    </tr>\n",
       "    <tr>\n",
       "      <th>2020-03-03</th>\n",
       "      <td>8.999982e+06</td>\n",
       "      <td>18.789981</td>\n",
       "      <td>-3.939033</td>\n",
       "      <td>3.198037</td>\n",
       "      <td>0.598998</td>\n",
       "      <td>-0.135986</td>\n",
       "      <td>0.013167</td>\n",
       "      <td>-0.105289</td>\n",
       "      <td>0.0</td>\n",
       "      <td>0.000000</td>\n",
       "    </tr>\n",
       "  </tbody>\n",
       "</table>\n",
       "</div>"
      ],
      "text/plain": [
       "            Susceptibles  Expuestos  Infectados     Leves    Graves  \\\n",
       "2020-03-01  8.999998e+06   0.000000    2.000000  0.000000  0.000000   \n",
       "2020-03-02  8.999994e+06   4.429315    0.901643  0.803605  0.136272   \n",
       "2020-03-03  8.999982e+06  18.789981   -3.939033  3.198037  0.598998   \n",
       "\n",
       "            Hospitalizados      ICUs  Recuperados  Defunciones  \\\n",
       "2020-03-01        0.000000  0.000000     0.000000          0.0   \n",
       "2020-03-02       -0.012550  0.001750    -0.004160          0.0   \n",
       "2020-03-03       -0.135986  0.013167    -0.105289          0.0   \n",
       "\n",
       "            Confirmados_acumulados  \n",
       "2020-03-01                2.000000  \n",
       "2020-03-02                1.826558  \n",
       "2020-03-03                0.000000  "
      ]
     },
     "execution_count": 542,
     "metadata": {},
     "output_type": "execute_result"
    }
   ],
   "source": [
    "solucion[:3]"
   ]
  },
  {
   "cell_type": "markdown",
   "metadata": {},
   "source": [
    "Graficación del modelo ajustado"
   ]
  },
  {
   "cell_type": "code",
   "execution_count": 547,
   "metadata": {},
   "outputs": [],
   "source": [
    "p = bpl.figure(x_axis_type=\"datetime\",plot_width=800,plot_height=600,title=\"Modelo CDMX\")"
   ]
  },
  {
   "cell_type": "code",
   "execution_count": 548,
   "metadata": {},
   "outputs": [],
   "source": [
    "p.line(x=casos_filt.index,y=casos_filt[\"Confirmados_acumulados\"],color=\"#0B9A53\",line_width=3,legend_label=\"Casos a ajustar\",line_dash=\"dashed\")\n",
    "p.line(x=casos_pred.index,y=casos_pred[\"Confirmados_acumulados\"],color=\"#3999E4\",line_width=3,legend_label=\"Casos a predecir\",line_dash=\"dotted\")\n",
    "for label in [\"Confirmados_acumulados\"]:\n",
    "    p.line(x=solucion.index,y=solucion[label],color=\"#9B0E63\",line_width=3,legend_label=\"Casos confirmados, modelo R_0 = \" + str(R_f))"
   ]
  },
  {
   "cell_type": "code",
   "execution_count": 549,
   "metadata": {},
   "outputs": [],
   "source": [
    "p.xaxis.axis_label = 'Fecha'\n",
    "p.yaxis.axis_label = 'Miles de personas'\n",
    "p.legend.location = \"top_left\""
   ]
  },
  {
   "cell_type": "code",
   "execution_count": 550,
   "metadata": {},
   "outputs": [
    {
     "data": {
      "text/html": [
       "\n",
       "\n",
       "\n",
       "\n",
       "\n",
       "\n",
       "  <div class=\"bk-root\" id=\"e4d8e674-afe8-4fd9-895e-2859cafa5817\" data-root-id=\"76385\"></div>\n"
      ]
     },
     "metadata": {},
     "output_type": "display_data"
    },
    {
     "data": {
      "application/javascript": [
       "(function(root) {\n",
       "  function embed_document(root) {\n",
       "    \n",
       "  var docs_json = {\"23c32b6e-f74b-4741-b42e-779a9da24fa7\":{\"roots\":{\"references\":[{\"attributes\":{\"below\":[{\"id\":\"76396\"}],\"center\":[{\"id\":\"76399\"},{\"id\":\"76403\"},{\"id\":\"76441\"}],\"left\":[{\"id\":\"76400\"}],\"plot_width\":800,\"renderers\":[{\"id\":\"76421\"},{\"id\":\"76446\"},{\"id\":\"76472\"}],\"title\":{\"id\":\"76386\"},\"toolbar\":{\"id\":\"76411\"},\"x_range\":{\"id\":\"76388\"},\"x_scale\":{\"id\":\"76392\"},\"y_range\":{\"id\":\"76390\"},\"y_scale\":{\"id\":\"76394\"}},\"id\":\"76385\",\"subtype\":\"Figure\",\"type\":\"Plot\"},{\"attributes\":{\"axis\":{\"id\":\"76396\"},\"ticker\":null},\"id\":\"76399\",\"type\":\"Grid\"},{\"attributes\":{\"months\":[0,2,4,6,8,10]},\"id\":\"76436\",\"type\":\"MonthsTicker\"},{\"attributes\":{\"data_source\":{\"id\":\"76469\"},\"glyph\":{\"id\":\"76470\"},\"hover_glyph\":null,\"muted_glyph\":null,\"nonselection_glyph\":{\"id\":\"76471\"},\"selection_glyph\":null,\"view\":{\"id\":\"76473\"}},\"id\":\"76472\",\"type\":\"GlyphRenderer\"},{\"attributes\":{\"data\":{\"x\":{\"__ndarray__\":\"AACARzYJd0IAAECtiAl3QgAAABPbCXdCAADAeC0Kd0IAAIDefwp3QgAAQETSCndCAAAAqiQLd0IAAMAPdwt3QgAAgHXJC3dCAABA2xsMd0IAAABBbgx3QgAAwKbADHdCAACADBMNd0IAAEByZQ13QgAAANi3DXdCAADAPQoOd0IAAICjXA53QgAAQAmvDndCAAAAbwEPd0IAAMDUUw93QgAAgDqmD3dCAABAoPgPd0I=\",\"dtype\":\"float64\",\"shape\":[22]},\"y\":{\"__ndarray__\":\"AAAAAAAAAECa304HlTn9PwAAAAAAAAAAAAAAAAAAAADsn8zA5mMEQKmKOGhX5iJA6OMJTx9eMEA1PcwU8qAxQF1oy9tDZDJAEqjqswh3OUA5xC9wSQZCQJvuAB6nuUZA5j46bogBTkBjSB8TzllUQNbiFu31B1tAzSyZ9wHUYUBkTSbEd+VnQCiMn6mWIXBAWX1VivaadUDNf7X386p8QPCIoutrHYNAmQp6RO+YiUA=\",\"dtype\":\"float64\",\"shape\":[22]}},\"selected\":{\"id\":\"78060\"},\"selection_policy\":{\"id\":\"78059\"}},\"id\":\"76469\",\"type\":\"ColumnDataSource\"},{\"attributes\":{},\"id\":\"76388\",\"type\":\"DataRange1d\"},{\"attributes\":{\"line_alpha\":0.1,\"line_color\":\"#0B9A53\",\"line_dash\":[6],\"line_width\":3,\"x\":{\"field\":\"x\"},\"y\":{\"field\":\"y\"}},\"id\":\"76420\",\"type\":\"Line\"},{\"attributes\":{\"base\":24,\"mantissas\":[1,2,4,6,8,12],\"max_interval\":43200000.0,\"min_interval\":3600000.0,\"num_minor_ticks\":0},\"id\":\"76430\",\"type\":\"AdaptiveTicker\"},{\"attributes\":{\"label\":{\"value\":\"Casos a ajustar\"},\"renderers\":[{\"id\":\"76421\"}]},\"id\":\"76442\",\"type\":\"LegendItem\"},{\"attributes\":{},\"id\":\"76409\",\"type\":\"HelpTool\"},{\"attributes\":{\"base\":60,\"mantissas\":[1,2,5,10,15,20,30],\"max_interval\":1800000.0,\"min_interval\":1000.0,\"num_minor_ticks\":0},\"id\":\"76429\",\"type\":\"AdaptiveTicker\"},{\"attributes\":{\"text\":\"Modelo CDMX\"},\"id\":\"76386\",\"type\":\"Title\"},{\"attributes\":{},\"id\":\"76425\",\"type\":\"DatetimeTickFormatter\"},{\"attributes\":{\"source\":{\"id\":\"76418\"}},\"id\":\"76422\",\"type\":\"CDSView\"},{\"attributes\":{\"source\":{\"id\":\"76443\"}},\"id\":\"76447\",\"type\":\"CDSView\"},{\"attributes\":{\"mantissas\":[1,2,5],\"max_interval\":500.0,\"num_minor_ticks\":0},\"id\":\"76428\",\"type\":\"AdaptiveTicker\"},{\"attributes\":{},\"id\":\"76494\",\"type\":\"UnionRenderers\"},{\"attributes\":{\"source\":{\"id\":\"76469\"}},\"id\":\"76473\",\"type\":\"CDSView\"},{\"attributes\":{\"line_alpha\":0.1,\"line_color\":\"#3999E4\",\"line_dash\":[2,4],\"line_width\":3,\"x\":{\"field\":\"x\"},\"y\":{\"field\":\"y\"}},\"id\":\"76445\",\"type\":\"Line\"},{\"attributes\":{\"axis\":{\"id\":\"76400\"},\"dimension\":1,\"ticker\":null},\"id\":\"76403\",\"type\":\"Grid\"},{\"attributes\":{\"months\":[0,4,8]},\"id\":\"76437\",\"type\":\"MonthsTicker\"},{\"attributes\":{\"num_minor_ticks\":5,\"tickers\":[{\"id\":\"76428\"},{\"id\":\"76429\"},{\"id\":\"76430\"},{\"id\":\"76431\"},{\"id\":\"76432\"},{\"id\":\"76433\"},{\"id\":\"76434\"},{\"id\":\"76435\"},{\"id\":\"76436\"},{\"id\":\"76437\"},{\"id\":\"76438\"},{\"id\":\"76439\"}]},\"id\":\"76397\",\"type\":\"DatetimeTicker\"},{\"attributes\":{\"data\":{\"x\":{\"__ndarray__\":\"AABAoPgPd0IAAAAGSxB3QgAAwGudEHdCAACA0e8Qd0IAAEA3QhF3QgAAAJ2UEXdCAADAAucRd0IAAIBoORJ3QgAAQM6LEndCAAAANN4Sd0IAAMCZMBN3Qg==\",\"dtype\":\"float64\",\"shape\":[11]},\"y\":{\"__ndarray__\":\"AAAAAACAf0AAAAAAAICBQAAAAAAA+IJAAAAAAADIhEAAAAAAAKCHQAAAAAAA4IlAAAAAAAAAjEAAAAAAAACOQAAAAAAAyJBAAAAAAAAQkkAAAAAAAFiUQA==\",\"dtype\":\"float64\",\"shape\":[11]}},\"selected\":{\"id\":\"76495\"},\"selection_policy\":{\"id\":\"76494\"}},\"id\":\"76443\",\"type\":\"ColumnDataSource\"},{\"attributes\":{\"days\":[1,8,15,22]},\"id\":\"76433\",\"type\":\"DaysTicker\"},{\"attributes\":{\"label\":{\"value\":\"Casos a predecir\"},\"renderers\":[{\"id\":\"76446\"}]},\"id\":\"76468\",\"type\":\"LegendItem\"},{\"attributes\":{},\"id\":\"76405\",\"type\":\"WheelZoomTool\"},{\"attributes\":{\"line_color\":\"#0B9A53\",\"line_dash\":[6],\"line_width\":3,\"x\":{\"field\":\"x\"},\"y\":{\"field\":\"y\"}},\"id\":\"76419\",\"type\":\"Line\"},{\"attributes\":{},\"id\":\"76408\",\"type\":\"ResetTool\"},{\"attributes\":{\"active_drag\":\"auto\",\"active_inspect\":\"auto\",\"active_multi\":null,\"active_scroll\":\"auto\",\"active_tap\":\"auto\",\"tools\":[{\"id\":\"76404\"},{\"id\":\"76405\"},{\"id\":\"76406\"},{\"id\":\"76407\"},{\"id\":\"76408\"},{\"id\":\"76409\"}]},\"id\":\"76411\",\"type\":\"Toolbar\"},{\"attributes\":{\"days\":[1,15]},\"id\":\"76434\",\"type\":\"DaysTicker\"},{\"attributes\":{\"months\":[0,6]},\"id\":\"76438\",\"type\":\"MonthsTicker\"},{\"attributes\":{\"data_source\":{\"id\":\"76418\"},\"glyph\":{\"id\":\"76419\"},\"hover_glyph\":null,\"muted_glyph\":null,\"nonselection_glyph\":{\"id\":\"76420\"},\"selection_glyph\":null,\"view\":{\"id\":\"76422\"}},\"id\":\"76421\",\"type\":\"GlyphRenderer\"},{\"attributes\":{},\"id\":\"76467\",\"type\":\"Selection\"},{\"attributes\":{},\"id\":\"78059\",\"type\":\"UnionRenderers\"},{\"attributes\":{\"data_source\":{\"id\":\"76443\"},\"glyph\":{\"id\":\"76444\"},\"hover_glyph\":null,\"muted_glyph\":null,\"nonselection_glyph\":{\"id\":\"76445\"},\"selection_glyph\":null,\"view\":{\"id\":\"76447\"}},\"id\":\"76446\",\"type\":\"GlyphRenderer\"},{\"attributes\":{\"overlay\":{\"id\":\"76410\"}},\"id\":\"76406\",\"type\":\"BoxZoomTool\"},{\"attributes\":{\"data\":{\"x\":{\"__ndarray__\":\"AACARzYJd0IAAECtiAl3QgAAABPbCXdCAADAeC0Kd0IAAIDefwp3QgAAQETSCndCAAAAqiQLd0IAAMAPdwt3QgAAgHXJC3dCAABA2xsMd0IAAABBbgx3QgAAwKbADHdCAACADBMNd0IAAEByZQ13QgAAANi3DXdCAADAPQoOd0IAAICjXA53QgAAQAmvDndCAAAAbwEPd0IAAMDUUw93QgAAgDqmD3dCAABAoPgPd0I=\",\"dtype\":\"float64\",\"shape\":[22]},\"y\":{\"__ndarray__\":\"AAAAAAAAKEAAAAAAAAAwQAAAAAAAADRAAAAAAAAAOUAAAAAAAAA5QAAAAAAAAD5AAAAAAACAQ0AAAAAAAABHQAAAAAAAAFFAAAAAAACAV0AAAAAAAEBdQAAAAAAAQGFAAAAAAADAZUAAAAAAAIBqQAAAAAAAQG9AAAAAAABgckAAAAAAADB0QAAAAAAAEHZAAAAAAABQeEAAAAAAANB7QAAAAAAAkH1AAAAAAACAf0A=\",\"dtype\":\"float64\",\"shape\":[22]}},\"selected\":{\"id\":\"76467\"},\"selection_policy\":{\"id\":\"76466\"}},\"id\":\"76418\",\"type\":\"ColumnDataSource\"},{\"attributes\":{\"line_alpha\":0.1,\"line_color\":\"#9B0E63\",\"line_width\":3,\"x\":{\"field\":\"x\"},\"y\":{\"field\":\"y\"}},\"id\":\"76471\",\"type\":\"Line\"},{\"attributes\":{\"items\":[{\"id\":\"76442\"},{\"id\":\"76468\"},{\"id\":\"76496\"}],\"location\":\"top_left\"},\"id\":\"76441\",\"type\":\"Legend\"},{\"attributes\":{\"axis_label\":\"Fecha\",\"formatter\":{\"id\":\"76425\"},\"ticker\":{\"id\":\"76397\"}},\"id\":\"76396\",\"type\":\"DatetimeAxis\"},{\"attributes\":{\"line_color\":\"#3999E4\",\"line_dash\":[2,4],\"line_width\":3,\"x\":{\"field\":\"x\"},\"y\":{\"field\":\"y\"}},\"id\":\"76444\",\"type\":\"Line\"},{\"attributes\":{\"days\":[1,2,3,4,5,6,7,8,9,10,11,12,13,14,15,16,17,18,19,20,21,22,23,24,25,26,27,28,29,30,31]},\"id\":\"76431\",\"type\":\"DaysTicker\"},{\"attributes\":{\"bottom_units\":\"screen\",\"fill_alpha\":0.5,\"fill_color\":\"lightgrey\",\"left_units\":\"screen\",\"level\":\"overlay\",\"line_alpha\":1.0,\"line_color\":\"black\",\"line_dash\":[4,4],\"line_width\":2,\"render_mode\":\"css\",\"right_units\":\"screen\",\"top_units\":\"screen\"},\"id\":\"76410\",\"type\":\"BoxAnnotation\"},{\"attributes\":{},\"id\":\"76390\",\"type\":\"DataRange1d\"},{\"attributes\":{},\"id\":\"76427\",\"type\":\"BasicTickFormatter\"},{\"attributes\":{},\"id\":\"76407\",\"type\":\"SaveTool\"},{\"attributes\":{},\"id\":\"76401\",\"type\":\"BasicTicker\"},{\"attributes\":{},\"id\":\"78060\",\"type\":\"Selection\"},{\"attributes\":{},\"id\":\"76439\",\"type\":\"YearsTicker\"},{\"attributes\":{},\"id\":\"76495\",\"type\":\"Selection\"},{\"attributes\":{\"label\":{\"value\":\"Casos confirmados, modelo R_0 = 4.601976800552114\"},\"renderers\":[{\"id\":\"76472\"}]},\"id\":\"76496\",\"type\":\"LegendItem\"},{\"attributes\":{},\"id\":\"76404\",\"type\":\"PanTool\"},{\"attributes\":{\"days\":[1,4,7,10,13,16,19,22,25,28]},\"id\":\"76432\",\"type\":\"DaysTicker\"},{\"attributes\":{},\"id\":\"76394\",\"type\":\"LinearScale\"},{\"attributes\":{\"line_color\":\"#9B0E63\",\"line_width\":3,\"x\":{\"field\":\"x\"},\"y\":{\"field\":\"y\"}},\"id\":\"76470\",\"type\":\"Line\"},{\"attributes\":{},\"id\":\"76466\",\"type\":\"UnionRenderers\"},{\"attributes\":{},\"id\":\"76392\",\"type\":\"LinearScale\"},{\"attributes\":{\"months\":[0,1,2,3,4,5,6,7,8,9,10,11]},\"id\":\"76435\",\"type\":\"MonthsTicker\"},{\"attributes\":{\"axis_label\":\"Miles de personas\",\"formatter\":{\"id\":\"76427\"},\"ticker\":{\"id\":\"76401\"}},\"id\":\"76400\",\"type\":\"LinearAxis\"}],\"root_ids\":[\"76385\"]},\"title\":\"Bokeh Application\",\"version\":\"2.0.1\"}};\n",
       "  var render_items = [{\"docid\":\"23c32b6e-f74b-4741-b42e-779a9da24fa7\",\"root_ids\":[\"76385\"],\"roots\":{\"76385\":\"e4d8e674-afe8-4fd9-895e-2859cafa5817\"}}];\n",
       "  root.Bokeh.embed.embed_items_notebook(docs_json, render_items);\n",
       "\n",
       "  }\n",
       "  if (root.Bokeh !== undefined) {\n",
       "    embed_document(root);\n",
       "  } else {\n",
       "    var attempts = 0;\n",
       "    var timer = setInterval(function(root) {\n",
       "      if (root.Bokeh !== undefined) {\n",
       "        clearInterval(timer);\n",
       "        embed_document(root);\n",
       "      } else {\n",
       "        attempts++;\n",
       "        if (attempts > 100) {\n",
       "          clearInterval(timer);\n",
       "          console.log(\"Bokeh: ERROR: Unable to run BokehJS code because BokehJS library is missing\");\n",
       "        }\n",
       "      }\n",
       "    }, 10, root)\n",
       "  }\n",
       "})(window);"
      ],
      "application/vnd.bokehjs_exec.v0+json": ""
     },
     "metadata": {
      "application/vnd.bokehjs_exec.v0+json": {
       "id": "76385"
      }
     },
     "output_type": "display_data"
    }
   ],
   "source": [
    "bpl.show(p)"
   ]
  },
  {
   "cell_type": "markdown",
   "metadata": {},
   "source": [
    "Se puede apreciar que el ajuste es bastánte malo"
   ]
  },
  {
   "cell_type": "code",
   "execution_count": null,
   "metadata": {},
   "outputs": [],
   "source": []
  }
 ],
 "metadata": {
  "kernelspec": {
   "display_name": "Python 3",
   "language": "python",
   "name": "python3"
  },
  "language_info": {
   "codemirror_mode": {
    "name": "ipython",
    "version": 3
   },
   "file_extension": ".py",
   "mimetype": "text/x-python",
   "name": "python",
   "nbconvert_exporter": "python",
   "pygments_lexer": "ipython3",
   "version": "3.7.7"
  }
 },
 "nbformat": 4,
 "nbformat_minor": 4
}
